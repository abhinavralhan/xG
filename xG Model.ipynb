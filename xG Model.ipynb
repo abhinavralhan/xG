{
 "cells": [
  {
   "cell_type": "markdown",
   "metadata": {},
   "source": [
    "# xG Model"
   ]
  },
  {
   "cell_type": "markdown",
   "metadata": {},
   "source": [
    "The idea is to be able to predict what will happen to particular chances and events, whether they will be converted or not, using particular attributes of data. This gives us an idea as to whether an event, if it occurs is likely to be a goal or not.\n",
    "\n",
    "Data:\n",
    "Data provision courtesy of Stratabet. Here, I've used English Championship, English Premiership, Bundesliga, France, Spain, Italy, division 1 data. It dates from the beginning of season 16-17 to the current 17-18.\n",
    "\n",
    "Attributes:\n",
    "For now, I've used attributes such as 'icon' (type of event), 'shotQuality' (used values defined by Stratabet), 'defPressure', 'numDefPlayers', 'numAttPlayers', 'chanceRating' (used values as defined by Stratabet), 'type' (defines passage of play). All attributes are encoded to particular values. The 'outcome' variable is binary encoded, ofcourse.\n",
    "\n",
    "Although I've used the parameter chanceRating & shotQuality which covers the idea of a shot going in or not, I would also like to incorporate Shot location later on."
   ]
  },
  {
   "cell_type": "code",
   "execution_count": null,
   "metadata": {},
   "outputs": [],
   "source": []
  },
  {
   "cell_type": "code",
   "execution_count": 1,
   "metadata": {},
   "outputs": [],
   "source": [
    "#####################################################################################################\n",
    "# STEP 1: Loading in Data \n",
    "\n",
    "# Use data through Pandas and Numpy manipulation\n"
   ]
  },
  {
   "cell_type": "code",
   "execution_count": 2,
   "metadata": {},
   "outputs": [],
   "source": [
    "# Loading Libraries\n",
    "\n",
    "import numpy as np \n",
    "import pandas as pd\n",
    "import matplotlib.pyplot as plt\n",
    "%matplotlib inline\n",
    "import seaborn as sns\n",
    "from scipy import stats\n",
    "from scipy.stats import norm\n",
    "from scipy.cluster import vq\n",
    "import plotly.graph_objs as go\n",
    "import plotly.plotly as py\n",
    "import plotly as pl\n"
   ]
  },
  {
   "cell_type": "code",
   "execution_count": 3,
   "metadata": {},
   "outputs": [],
   "source": [
    "# Loading datasets\n",
    "\n",
    "engch16 = pd.read_csv('latestdatamarch/EngCh/2016-17/2017-06-27_chances_2016-07-01_2017-06-15.csv')\n",
    "engch17 = pd.read_csv('latestdatamarch/EngCh/chances_from_2017-07-01.csv')\n",
    "engpr16 = pd.read_csv('latestdatamarch/EngPr/2016-17/2017-06-27_chances_2016-07-01_2017-06-15.csv')\n",
    "engpr17 = pd.read_csv('latestdatamarch/EngPr/chances_from_2017-07-01.csv')\n",
    "bl16 = pd.read_csv('latestdatamarch/GerBL1/2016-17/2017-06-27_chances_2016-07-01_2017-06-15.csv')\n",
    "bl17 = pd.read_csv('latestdatamarch/GerBL1/chances_from_2017-07-01.csv')\n",
    "ita16 = pd.read_csv('latestdatamarch/ItaSA/2016-17/2017-06-27_chances_2016-07-01_2017-06-15.csv')\n",
    "ita17 = pd.read_csv('latestdatamarch/ItaSA/chances_from_2017-07-01.csv')\n",
    "fra16 = pd.read_csv('latestdatamarch/FraL1/2016-17/2017-06-27_chances_2016-07-01_2017-06-15.csv')\n",
    "fra17 = pd.read_csv('latestdatamarch/FraL1/chances_from_2017-07-01.csv')\n",
    "spa16 = pd.read_csv('latestdatamarch/SpaPr/2016-17/2017-06-27_chances_2016-07-01_2017-06-15.csv')\n",
    "spa17 = pd.read_csv('latestdatamarch/SpaPr/chances_from_2017-07-01.csv')\n"
   ]
  },
  {
   "cell_type": "code",
   "execution_count": 4,
   "metadata": {},
   "outputs": [
    {
     "data": {
      "text/plain": [
       "(12730, 27)"
      ]
     },
     "execution_count": 4,
     "metadata": {},
     "output_type": "execute_result"
    }
   ],
   "source": [
    "engch16.shape"
   ]
  },
  {
   "cell_type": "code",
   "execution_count": 5,
   "metadata": {},
   "outputs": [],
   "source": [
    "df = engch16.append(engch17).append(engpr16).append(bl16).append(bl17).append(ita16).append(ita17).append(fra16).append(fra17).append(spa16).append(spa17)\n",
    "test = engpr17"
   ]
  },
  {
   "cell_type": "code",
   "execution_count": 6,
   "metadata": {},
   "outputs": [
    {
     "data": {
      "text/plain": [
       "(84334, 27)"
      ]
     },
     "execution_count": 6,
     "metadata": {},
     "output_type": "execute_result"
    }
   ],
   "source": [
    "df.shape"
   ]
  },
  {
   "cell_type": "code",
   "execution_count": 7,
   "metadata": {},
   "outputs": [
    {
     "name": "stdout",
     "output_type": "stream",
     "text": [
      "<class 'pandas.core.frame.DataFrame'>\n",
      "Int64Index: 84334 entries, 0 to 5845\n",
      "Data columns (total 27 columns):\n",
      "Unnamed: 0           84334 non-null int64\n",
      "competition          84334 non-null object\n",
      "gsm_id               84334 non-null int64\n",
      "kickoffDate          84334 non-null object\n",
      "kickoffTime          84334 non-null object\n",
      "hometeam_team1       84334 non-null object\n",
      "awayteam_team2       84334 non-null object\n",
      "icon                 84334 non-null object\n",
      "chanceRating         84334 non-null object\n",
      "team                 84334 non-null object\n",
      "type                 84334 non-null object\n",
      "time                 84334 non-null object\n",
      "player               84334 non-null object\n",
      "location_x           84334 non-null object\n",
      "location_y           84334 non-null object\n",
      "bodyPart             84334 non-null object\n",
      "shotQuality          83153 non-null object\n",
      "defPressure          84334 non-null object\n",
      "numDefPlayers        84334 non-null object\n",
      "numAttPlayers        84334 non-null object\n",
      "outcome              84334 non-null object\n",
      "primaryPlayer        84334 non-null object\n",
      "primaryType          84334 non-null object\n",
      "primaryLocation_x    84334 non-null object\n",
      "primaryLocation_y    84334 non-null object\n",
      "secondaryPlayer      84334 non-null object\n",
      "secondaryType        84334 non-null object\n",
      "dtypes: int64(2), object(25)\n",
      "memory usage: 18.0+ MB\n"
     ]
    }
   ],
   "source": [
    "df.info()"
   ]
  },
  {
   "cell_type": "code",
   "execution_count": null,
   "metadata": {},
   "outputs": [],
   "source": []
  },
  {
   "cell_type": "code",
   "execution_count": 8,
   "metadata": {},
   "outputs": [],
   "source": [
    "#####################################################################################################\n",
    "# STEP 2: Visualising Shot Locations \n",
    "\n",
    "# Understanding how well the data provided by Stratabet has been assigned chanceRatings\n"
   ]
  },
  {
   "cell_type": "code",
   "execution_count": null,
   "metadata": {},
   "outputs": [],
   "source": []
  },
  {
   "cell_type": "code",
   "execution_count": 9,
   "metadata": {},
   "outputs": [
    {
     "name": "stdout",
     "output_type": "stream",
     "text": [
      "The train data has 5393 rows and 27 columns\n",
      "High five! You successfully sent some data to your account on plotly. View your plot in your browser at https://plot.ly/~abhinavr8/0 or inside your plot.ly account where it is named 'styled-scatter'\n"
     ]
    },
    {
     "data": {
      "text/html": [
       "<iframe id=\"igraph\" scrolling=\"no\" style=\"border:none;\" seamless=\"seamless\" src=\"https://plot.ly/~abhinavr8/0.embed\" height=\"525px\" width=\"100%\"></iframe>"
      ],
      "text/plain": [
       "<plotly.tools.PlotlyDisplay object>"
      ]
     },
     "execution_count": 9,
     "metadata": {},
     "output_type": "execute_result"
    }
   ],
   "source": [
    "pl.tools.set_credentials_file(username='abhinavr8', api_key='L7YaGsI86BxiRjGqiXVi')\n",
    "csl = pd.read_csv(\"china.csv\")\n",
    "\n",
    "print ('The train data has {} rows and {} columns'.format(csl.shape[0],csl.shape[1]))\n",
    "\n",
    "total = csl.isnull().sum().sort_values(ascending=False)\n",
    "percent = (csl.isnull().sum()/csl['gsm_id'].count()).sort_values(ascending=False)\n",
    "missing_data = pd.concat([total, percent*100], axis=1, keys=['Total', 'Percent'])\n",
    "\n",
    "csl['shotQuality'] = csl['shotQuality'].replace(['-'], 0)\n",
    "csl['shotQuality'] = csl['shotQuality'].astype(float)\n",
    "csl['shotQuality'] = csl['shotQuality'].replace('nan', 0)\n",
    "csl['shotQuality'] = csl['shotQuality'].fillna(0)\n",
    "\n",
    "csl2 = csl.loc[csl['team'] == 'Guangzhou Evergrande']\n",
    "csl2 = csl2.loc[csl2['icon'] == 'goal']\n",
    "csl2 = csl2[['location_x', 'location_y', 'chanceRating']]\n",
    "#csl2 = csl2.loc[csl2['chanceRating'] != 'Penalty' ]\n",
    "\n",
    "csl3 = csl2.loc[csl2['chanceRating'] == 'Superb']\n",
    "csl4 = csl2.loc[csl2['chanceRating'] == 'Great'] \n",
    "csl5 = csl2.loc[csl2['chanceRating'] == 'Very Good']\n",
    "csl6 = csl2.loc[csl2['chanceRating'] == 'Poor'] + csl2.loc[csl2['chanceRating'] == 'Fairly Good']  \n",
    "\n",
    "N = 500\n",
    "\n",
    "trace0 = go.Scatter(\n",
    "    x = csl3['location_x'],\n",
    "    y = csl3['location_y'],\n",
    "    name = 'Chances > 83% scoring chance',\n",
    "    mode = 'markers',\n",
    "    marker = dict(\n",
    "        size = 10,\n",
    "        color = 'rgba(255,0,0, .8)',\n",
    "        line = dict(\n",
    "            width = 2,\n",
    "            color = 'rgb(0, 0, 0)'\n",
    "        ))\n",
    ")\n",
    "trace1 = go.Scatter(\n",
    "    x = csl4['location_x'],\n",
    "    y = csl4['location_y'],\n",
    "    name = 'Chances > 43% scoring chance',\n",
    "    mode = 'markers',\n",
    "    marker = dict(\n",
    "        size = 10,\n",
    "        color = 'rgba(255,185,0, .9)',\n",
    "        line = dict(\n",
    "            width = 2,\n",
    "        ))\n",
    ")\n",
    "trace2 = go.Scatter(\n",
    "    x = csl5['location_x'],\n",
    "    y = csl5['location_y'],\n",
    "    name = 'Chances > 22% scoring chance',\n",
    "    mode = 'markers',\n",
    "    marker = dict(\n",
    "        size = 10,\n",
    "        color = 'rgba(0,185,0, .9)',\n",
    "        line = dict(\n",
    "            width = 2,\n",
    "        ))\n",
    ")\n",
    "trace3 = go.Scatter(\n",
    "    x = csl6['location_x'],\n",
    "    y = csl6['location_y'],\n",
    "    name = 'Chances > 3% scoring chance',\n",
    "    mode = 'markers',\n",
    "    marker = dict(\n",
    "        size = 10,\n",
    "        color = 'rgba(0,0, 225, .9)',\n",
    "        line = dict(\n",
    "            width = 2,\n",
    "        ))\n",
    ")\n",
    "\n",
    "data = [trace0, trace1, trace2]\n",
    "\n",
    "layout = dict(title = 'Goals scored by Guangzhou Evergrande',\n",
    "              yaxis = dict(zeroline = False),\n",
    "              xaxis = dict(zeroline = False)\n",
    "             )\n",
    "\n",
    "fig = dict(data=data, layout=layout)\n",
    "py.iplot(fig, filename='styled-scatter')\n"
   ]
  },
  {
   "cell_type": "code",
   "execution_count": 10,
   "metadata": {},
   "outputs": [
    {
     "name": "stdout",
     "output_type": "stream",
     "text": [
      "High five! You successfully sent some data to your account on plotly. View your plot in your browser at https://plot.ly/~abhinavr8/0 or inside your plot.ly account where it is named 'styled-scatter'\n"
     ]
    },
    {
     "data": {
      "text/html": [
       "<iframe id=\"igraph\" scrolling=\"no\" style=\"border:none;\" seamless=\"seamless\" src=\"https://plot.ly/~abhinavr8/0.embed\" height=\"525px\" width=\"100%\"></iframe>"
      ],
      "text/plain": [
       "<plotly.tools.PlotlyDisplay object>"
      ]
     },
     "execution_count": 10,
     "metadata": {},
     "output_type": "execute_result"
    }
   ],
   "source": [
    "csl2 = csl.loc[csl['team'] == 'Shanghai SIPG']\n",
    "csl2 = csl2.loc[csl2['icon'] == 'goal']\n",
    "csl2 = csl2[['location_x', 'location_y', 'chanceRating']]\n",
    "\n",
    "csl3 = csl2.loc[csl2['chanceRating'] == 'Superb']\n",
    "csl4 = csl2.loc[csl2['chanceRating'] == 'Great'] \n",
    "csl5 = csl2.loc[csl2['chanceRating'] == 'Very Good']\n",
    "csl6 = csl2.loc[csl2['chanceRating'] == 'Poor'] + csl2.loc[csl2['chanceRating'] == 'Fairly Good']\n",
    "\n",
    "N = 500\n",
    "\n",
    "trace0 = go.Scatter(\n",
    "    x = csl3['location_x'],\n",
    "    y = csl3['location_y'],\n",
    "    name = 'Chances > 83% scoring chance',\n",
    "    mode = 'markers',\n",
    "    marker = dict(\n",
    "        size = 10,\n",
    "        color = 'rgba(255,0,0, .8)',\n",
    "        line = dict(\n",
    "            width = 2,\n",
    "            color = 'rgb(0, 0, 0)'\n",
    "        ))\n",
    ")\n",
    "trace1 = go.Scatter(\n",
    "    x = csl4['location_x'],\n",
    "    y = csl4['location_y'],\n",
    "    name = 'Chances > 43% scoring chance',\n",
    "    mode = 'markers',\n",
    "    marker = dict(\n",
    "        size = 10,\n",
    "        color = 'rgba(255,185,0, .9)',\n",
    "        line = dict(\n",
    "            width = 2,\n",
    "        ))\n",
    ")\n",
    "trace2 = go.Scatter(\n",
    "    x = csl5['location_x'],\n",
    "    y = csl5['location_y'],\n",
    "    name = 'Chances > 22% scoring chance',\n",
    "    mode = 'markers',\n",
    "    marker = dict(\n",
    "        size = 10,\n",
    "        color = 'rgba(0,185,0, .9)',\n",
    "        line = dict(\n",
    "            width = 2,\n",
    "        ))\n",
    ")\n",
    "trace3 = go.Scatter(\n",
    "    x = csl6['location_x'],\n",
    "    y = csl6['location_y'],\n",
    "    name = 'Chances > 3% scoring chance',\n",
    "    mode = 'markers',\n",
    "    marker = dict(\n",
    "        size = 10,\n",
    "        color = 'rgba(0,0, 225, .9)',\n",
    "        line = dict(\n",
    "            width = 2,\n",
    "        ))\n",
    ")\n",
    "\n",
    "data = [trace0, trace1, trace2]\n",
    "layout = dict(title = 'Goals scored by Shanghai SIPG',\n",
    "              yaxis = dict(zeroline = False),\n",
    "              xaxis = dict(zeroline = False)\n",
    "             )\n",
    "\n",
    "fig = dict(data=data, layout=layout)\n",
    "py.iplot(fig, filename='styled-scatter')\n"
   ]
  },
  {
   "cell_type": "code",
   "execution_count": null,
   "metadata": {},
   "outputs": [],
   "source": []
  },
  {
   "cell_type": "code",
   "execution_count": null,
   "metadata": {},
   "outputs": [],
   "source": []
  },
  {
   "cell_type": "code",
   "execution_count": 11,
   "metadata": {},
   "outputs": [],
   "source": [
    "#####################################################################################################\n",
    "# STEP 3: Clean Data \n",
    "\n",
    "# Remove missing values, treating noisy data\n"
   ]
  },
  {
   "cell_type": "code",
   "execution_count": null,
   "metadata": {},
   "outputs": [],
   "source": []
  },
  {
   "cell_type": "code",
   "execution_count": 12,
   "metadata": {},
   "outputs": [
    {
     "data": {
      "text/html": [
       "<div>\n",
       "<style scoped>\n",
       "    .dataframe tbody tr th:only-of-type {\n",
       "        vertical-align: middle;\n",
       "    }\n",
       "\n",
       "    .dataframe tbody tr th {\n",
       "        vertical-align: top;\n",
       "    }\n",
       "\n",
       "    .dataframe thead th {\n",
       "        text-align: right;\n",
       "    }\n",
       "</style>\n",
       "<table border=\"1\" class=\"dataframe\">\n",
       "  <thead>\n",
       "    <tr style=\"text-align: right;\">\n",
       "      <th></th>\n",
       "      <th>Unnamed: 0</th>\n",
       "      <th>competition</th>\n",
       "      <th>gsm_id</th>\n",
       "      <th>kickoffDate</th>\n",
       "      <th>kickoffTime</th>\n",
       "      <th>hometeam_team1</th>\n",
       "      <th>awayteam_team2</th>\n",
       "      <th>icon</th>\n",
       "      <th>chanceRating</th>\n",
       "      <th>team</th>\n",
       "      <th>...</th>\n",
       "      <th>defPressure</th>\n",
       "      <th>numDefPlayers</th>\n",
       "      <th>numAttPlayers</th>\n",
       "      <th>outcome</th>\n",
       "      <th>primaryPlayer</th>\n",
       "      <th>primaryType</th>\n",
       "      <th>primaryLocation_x</th>\n",
       "      <th>primaryLocation_y</th>\n",
       "      <th>secondaryPlayer</th>\n",
       "      <th>secondaryType</th>\n",
       "    </tr>\n",
       "  </thead>\n",
       "  <tbody>\n",
       "    <tr>\n",
       "      <th>0</th>\n",
       "      <td>302</td>\n",
       "      <td>EngCh</td>\n",
       "      <td>2237445</td>\n",
       "      <td>2017-05-29</td>\n",
       "      <td>14:00:00</td>\n",
       "      <td>Huddersfield Town</td>\n",
       "      <td>Reading</td>\n",
       "      <td>goal</td>\n",
       "      <td>Penalty</td>\n",
       "      <td>Huddersfield Town</td>\n",
       "      <td>...</td>\n",
       "      <td>0</td>\n",
       "      <td>1</td>\n",
       "      <td>0</td>\n",
       "      <td>-</td>\n",
       "      <td>-</td>\n",
       "      <td>-</td>\n",
       "      <td>-</td>\n",
       "      <td>-</td>\n",
       "      <td>-</td>\n",
       "      <td>-</td>\n",
       "    </tr>\n",
       "    <tr>\n",
       "      <th>1</th>\n",
       "      <td>301</td>\n",
       "      <td>EngCh</td>\n",
       "      <td>2237445</td>\n",
       "      <td>2017-05-29</td>\n",
       "      <td>14:00:00</td>\n",
       "      <td>Huddersfield Town</td>\n",
       "      <td>Reading</td>\n",
       "      <td>goal</td>\n",
       "      <td>Penalty</td>\n",
       "      <td>Huddersfield Town</td>\n",
       "      <td>...</td>\n",
       "      <td>0</td>\n",
       "      <td>1</td>\n",
       "      <td>0</td>\n",
       "      <td>-</td>\n",
       "      <td>-</td>\n",
       "      <td>-</td>\n",
       "      <td>-</td>\n",
       "      <td>-</td>\n",
       "      <td>-</td>\n",
       "      <td>-</td>\n",
       "    </tr>\n",
       "    <tr>\n",
       "      <th>2</th>\n",
       "      <td>300</td>\n",
       "      <td>EngCh</td>\n",
       "      <td>2237445</td>\n",
       "      <td>2017-05-29</td>\n",
       "      <td>14:00:00</td>\n",
       "      <td>Huddersfield Town</td>\n",
       "      <td>Reading</td>\n",
       "      <td>goal</td>\n",
       "      <td>Penalty</td>\n",
       "      <td>Reading</td>\n",
       "      <td>...</td>\n",
       "      <td>0</td>\n",
       "      <td>1</td>\n",
       "      <td>0</td>\n",
       "      <td>-</td>\n",
       "      <td>-</td>\n",
       "      <td>-</td>\n",
       "      <td>-</td>\n",
       "      <td>-</td>\n",
       "      <td>-</td>\n",
       "      <td>-</td>\n",
       "    </tr>\n",
       "    <tr>\n",
       "      <th>3</th>\n",
       "      <td>299</td>\n",
       "      <td>EngCh</td>\n",
       "      <td>2237445</td>\n",
       "      <td>2017-05-29</td>\n",
       "      <td>14:00:00</td>\n",
       "      <td>Huddersfield Town</td>\n",
       "      <td>Reading</td>\n",
       "      <td>goal</td>\n",
       "      <td>Penalty</td>\n",
       "      <td>Reading</td>\n",
       "      <td>...</td>\n",
       "      <td>0</td>\n",
       "      <td>1</td>\n",
       "      <td>0</td>\n",
       "      <td>-</td>\n",
       "      <td>-</td>\n",
       "      <td>-</td>\n",
       "      <td>-</td>\n",
       "      <td>-</td>\n",
       "      <td>-</td>\n",
       "      <td>-</td>\n",
       "    </tr>\n",
       "    <tr>\n",
       "      <th>4</th>\n",
       "      <td>298</td>\n",
       "      <td>EngCh</td>\n",
       "      <td>2237445</td>\n",
       "      <td>2017-05-29</td>\n",
       "      <td>14:00:00</td>\n",
       "      <td>Huddersfield Town</td>\n",
       "      <td>Reading</td>\n",
       "      <td>goal</td>\n",
       "      <td>Penalty</td>\n",
       "      <td>Huddersfield Town</td>\n",
       "      <td>...</td>\n",
       "      <td>0</td>\n",
       "      <td>1</td>\n",
       "      <td>0</td>\n",
       "      <td>-</td>\n",
       "      <td>-</td>\n",
       "      <td>-</td>\n",
       "      <td>-</td>\n",
       "      <td>-</td>\n",
       "      <td>-</td>\n",
       "      <td>-</td>\n",
       "    </tr>\n",
       "  </tbody>\n",
       "</table>\n",
       "<p>5 rows × 27 columns</p>\n",
       "</div>"
      ],
      "text/plain": [
       "   Unnamed: 0 competition   gsm_id kickoffDate kickoffTime     hometeam_team1  \\\n",
       "0         302       EngCh  2237445  2017-05-29    14:00:00  Huddersfield Town   \n",
       "1         301       EngCh  2237445  2017-05-29    14:00:00  Huddersfield Town   \n",
       "2         300       EngCh  2237445  2017-05-29    14:00:00  Huddersfield Town   \n",
       "3         299       EngCh  2237445  2017-05-29    14:00:00  Huddersfield Town   \n",
       "4         298       EngCh  2237445  2017-05-29    14:00:00  Huddersfield Town   \n",
       "\n",
       "  awayteam_team2  icon chanceRating               team      ...       \\\n",
       "0        Reading  goal      Penalty  Huddersfield Town      ...        \n",
       "1        Reading  goal      Penalty  Huddersfield Town      ...        \n",
       "2        Reading  goal      Penalty            Reading      ...        \n",
       "3        Reading  goal      Penalty            Reading      ...        \n",
       "4        Reading  goal      Penalty  Huddersfield Town      ...        \n",
       "\n",
       "  defPressure numDefPlayers numAttPlayers outcome primaryPlayer primaryType  \\\n",
       "0           0             1             0       -             -           -   \n",
       "1           0             1             0       -             -           -   \n",
       "2           0             1             0       -             -           -   \n",
       "3           0             1             0       -             -           -   \n",
       "4           0             1             0       -             -           -   \n",
       "\n",
       "  primaryLocation_x primaryLocation_y secondaryPlayer secondaryType  \n",
       "0                 -                 -               -             -  \n",
       "1                 -                 -               -             -  \n",
       "2                 -                 -               -             -  \n",
       "3                 -                 -               -             -  \n",
       "4                 -                 -               -             -  \n",
       "\n",
       "[5 rows x 27 columns]"
      ]
     },
     "execution_count": 12,
     "metadata": {},
     "output_type": "execute_result"
    }
   ],
   "source": [
    "# import from numpy\n",
    "import numpy as np\n",
    "import pandas as pd\n",
    "\n",
    "df.head()"
   ]
  },
  {
   "cell_type": "code",
   "execution_count": 13,
   "metadata": {},
   "outputs": [],
   "source": [
    "# Picking out best features to work on"
   ]
  },
  {
   "cell_type": "code",
   "execution_count": 14,
   "metadata": {},
   "outputs": [
    {
     "data": {
      "text/plain": [
       "(84334, 27)"
      ]
     },
     "execution_count": 14,
     "metadata": {},
     "output_type": "execute_result"
    }
   ],
   "source": [
    "df.shape"
   ]
  },
  {
   "cell_type": "code",
   "execution_count": 15,
   "metadata": {},
   "outputs": [
    {
     "data": {
      "text/html": [
       "<div>\n",
       "<style scoped>\n",
       "    .dataframe tbody tr th:only-of-type {\n",
       "        vertical-align: middle;\n",
       "    }\n",
       "\n",
       "    .dataframe tbody tr th {\n",
       "        vertical-align: top;\n",
       "    }\n",
       "\n",
       "    .dataframe thead th {\n",
       "        text-align: right;\n",
       "    }\n",
       "</style>\n",
       "<table border=\"1\" class=\"dataframe\">\n",
       "  <thead>\n",
       "    <tr style=\"text-align: right;\">\n",
       "      <th></th>\n",
       "      <th>icon</th>\n",
       "      <th>bodyPart</th>\n",
       "      <th>location_x</th>\n",
       "      <th>location_y</th>\n",
       "      <th>shotQuality</th>\n",
       "      <th>defPressure</th>\n",
       "      <th>numDefPlayers</th>\n",
       "      <th>numAttPlayers</th>\n",
       "      <th>outcome</th>\n",
       "      <th>primaryType</th>\n",
       "      <th>primaryLocation_x</th>\n",
       "      <th>primaryLocation_y</th>\n",
       "      <th>secondaryType</th>\n",
       "      <th>chanceRating</th>\n",
       "      <th>type</th>\n",
       "    </tr>\n",
       "  </thead>\n",
       "  <tbody>\n",
       "    <tr>\n",
       "      <th>0</th>\n",
       "      <td>goal</td>\n",
       "      <td>Right</td>\n",
       "      <td>0.0</td>\n",
       "      <td>44.0</td>\n",
       "      <td>3</td>\n",
       "      <td>0</td>\n",
       "      <td>1</td>\n",
       "      <td>0</td>\n",
       "      <td>-</td>\n",
       "      <td>-</td>\n",
       "      <td>-</td>\n",
       "      <td>-</td>\n",
       "      <td>-</td>\n",
       "      <td>Penalty</td>\n",
       "      <td>Penalty</td>\n",
       "    </tr>\n",
       "    <tr>\n",
       "      <th>1</th>\n",
       "      <td>goal</td>\n",
       "      <td>Right</td>\n",
       "      <td>0.0</td>\n",
       "      <td>44.0</td>\n",
       "      <td>3</td>\n",
       "      <td>0</td>\n",
       "      <td>1</td>\n",
       "      <td>0</td>\n",
       "      <td>-</td>\n",
       "      <td>-</td>\n",
       "      <td>-</td>\n",
       "      <td>-</td>\n",
       "      <td>-</td>\n",
       "      <td>Penalty</td>\n",
       "      <td>Penalty</td>\n",
       "    </tr>\n",
       "    <tr>\n",
       "      <th>2</th>\n",
       "      <td>goal</td>\n",
       "      <td>Right</td>\n",
       "      <td>0.0</td>\n",
       "      <td>44.0</td>\n",
       "      <td>4</td>\n",
       "      <td>0</td>\n",
       "      <td>1</td>\n",
       "      <td>0</td>\n",
       "      <td>-</td>\n",
       "      <td>-</td>\n",
       "      <td>-</td>\n",
       "      <td>-</td>\n",
       "      <td>-</td>\n",
       "      <td>Penalty</td>\n",
       "      <td>Penalty</td>\n",
       "    </tr>\n",
       "    <tr>\n",
       "      <th>3</th>\n",
       "      <td>goal</td>\n",
       "      <td>Right</td>\n",
       "      <td>0.0</td>\n",
       "      <td>44.0</td>\n",
       "      <td>3</td>\n",
       "      <td>0</td>\n",
       "      <td>1</td>\n",
       "      <td>0</td>\n",
       "      <td>-</td>\n",
       "      <td>-</td>\n",
       "      <td>-</td>\n",
       "      <td>-</td>\n",
       "      <td>-</td>\n",
       "      <td>Penalty</td>\n",
       "      <td>Penalty</td>\n",
       "    </tr>\n",
       "    <tr>\n",
       "      <th>4</th>\n",
       "      <td>goal</td>\n",
       "      <td>Left</td>\n",
       "      <td>0.0</td>\n",
       "      <td>44.0</td>\n",
       "      <td>3</td>\n",
       "      <td>0</td>\n",
       "      <td>1</td>\n",
       "      <td>0</td>\n",
       "      <td>-</td>\n",
       "      <td>-</td>\n",
       "      <td>-</td>\n",
       "      <td>-</td>\n",
       "      <td>-</td>\n",
       "      <td>Penalty</td>\n",
       "      <td>Penalty</td>\n",
       "    </tr>\n",
       "  </tbody>\n",
       "</table>\n",
       "</div>"
      ],
      "text/plain": [
       "   icon bodyPart location_x location_y shotQuality defPressure numDefPlayers  \\\n",
       "0  goal    Right        0.0       44.0           3           0             1   \n",
       "1  goal    Right        0.0       44.0           3           0             1   \n",
       "2  goal    Right        0.0       44.0           4           0             1   \n",
       "3  goal    Right        0.0       44.0           3           0             1   \n",
       "4  goal     Left        0.0       44.0           3           0             1   \n",
       "\n",
       "  numAttPlayers outcome primaryType primaryLocation_x primaryLocation_y  \\\n",
       "0             0       -           -                 -                 -   \n",
       "1             0       -           -                 -                 -   \n",
       "2             0       -           -                 -                 -   \n",
       "3             0       -           -                 -                 -   \n",
       "4             0       -           -                 -                 -   \n",
       "\n",
       "  secondaryType chanceRating     type  \n",
       "0             -      Penalty  Penalty  \n",
       "1             -      Penalty  Penalty  \n",
       "2             -      Penalty  Penalty  \n",
       "3             -      Penalty  Penalty  \n",
       "4             -      Penalty  Penalty  "
      ]
     },
     "execution_count": 15,
     "metadata": {},
     "output_type": "execute_result"
    }
   ],
   "source": [
    "df = df[['icon', \"bodyPart\",\"location_x\",\"location_y\",\"shotQuality\",\"defPressure\",\"numDefPlayers\",\"numAttPlayers\",\"outcome\",'primaryType', 'primaryLocation_x', 'primaryLocation_y', 'secondaryType', 'chanceRating', 'type']] \n",
    "test = test[['icon', \"bodyPart\",\"location_x\",\"location_y\",\"shotQuality\",\"defPressure\",\"numDefPlayers\",\"numAttPlayers\",\"outcome\",'primaryType', 'primaryLocation_x', 'primaryLocation_y', 'secondaryType', 'chanceRating', 'type']] \n",
    "df.head()"
   ]
  },
  {
   "cell_type": "code",
   "execution_count": 16,
   "metadata": {},
   "outputs": [
    {
     "data": {
      "text/plain": [
       "icon                    0\n",
       "bodyPart                0\n",
       "location_x              0\n",
       "location_y              0\n",
       "shotQuality          1181\n",
       "defPressure             0\n",
       "numDefPlayers           0\n",
       "numAttPlayers           0\n",
       "outcome                 0\n",
       "primaryType             0\n",
       "primaryLocation_x       0\n",
       "primaryLocation_y       0\n",
       "secondaryType           0\n",
       "chanceRating            0\n",
       "type                    0\n",
       "dtype: int64"
      ]
     },
     "execution_count": 16,
     "metadata": {},
     "output_type": "execute_result"
    }
   ],
   "source": [
    "null_values = df.isnull().sum()\n",
    "null_values"
   ]
  },
  {
   "cell_type": "code",
   "execution_count": 17,
   "metadata": {},
   "outputs": [
    {
     "name": "stderr",
     "output_type": "stream",
     "text": [
      "/home/abhinavralhan/.local/lib/python3.5/site-packages/ipykernel_launcher.py:3: SettingWithCopyWarning:\n",
      "\n",
      "\n",
      "A value is trying to be set on a copy of a slice from a DataFrame.\n",
      "Try using .loc[row_indexer,col_indexer] = value instead\n",
      "\n",
      "See the caveats in the documentation: http://pandas.pydata.org/pandas-docs/stable/indexing.html#indexing-view-versus-copy\n",
      "\n"
     ]
    },
    {
     "data": {
      "text/html": [
       "<div>\n",
       "<style scoped>\n",
       "    .dataframe tbody tr th:only-of-type {\n",
       "        vertical-align: middle;\n",
       "    }\n",
       "\n",
       "    .dataframe tbody tr th {\n",
       "        vertical-align: top;\n",
       "    }\n",
       "\n",
       "    .dataframe thead th {\n",
       "        text-align: right;\n",
       "    }\n",
       "</style>\n",
       "<table border=\"1\" class=\"dataframe\">\n",
       "  <thead>\n",
       "    <tr style=\"text-align: right;\">\n",
       "      <th></th>\n",
       "      <th>icon</th>\n",
       "      <th>bodyPart</th>\n",
       "      <th>location_x</th>\n",
       "      <th>location_y</th>\n",
       "      <th>shotQuality</th>\n",
       "      <th>defPressure</th>\n",
       "      <th>numDefPlayers</th>\n",
       "      <th>numAttPlayers</th>\n",
       "      <th>outcome</th>\n",
       "      <th>primaryType</th>\n",
       "      <th>primaryLocation_x</th>\n",
       "      <th>primaryLocation_y</th>\n",
       "      <th>secondaryType</th>\n",
       "      <th>chanceRating</th>\n",
       "      <th>type</th>\n",
       "    </tr>\n",
       "  </thead>\n",
       "  <tbody>\n",
       "    <tr>\n",
       "      <th>0</th>\n",
       "      <td>goal</td>\n",
       "      <td>Right</td>\n",
       "      <td>0.0</td>\n",
       "      <td>44.0</td>\n",
       "      <td>3</td>\n",
       "      <td>0</td>\n",
       "      <td>1</td>\n",
       "      <td>0</td>\n",
       "      <td>-</td>\n",
       "      <td>-</td>\n",
       "      <td>-</td>\n",
       "      <td>-</td>\n",
       "      <td>-</td>\n",
       "      <td>Penalty</td>\n",
       "      <td>Penalty</td>\n",
       "    </tr>\n",
       "    <tr>\n",
       "      <th>1</th>\n",
       "      <td>goal</td>\n",
       "      <td>Right</td>\n",
       "      <td>0.0</td>\n",
       "      <td>44.0</td>\n",
       "      <td>3</td>\n",
       "      <td>0</td>\n",
       "      <td>1</td>\n",
       "      <td>0</td>\n",
       "      <td>-</td>\n",
       "      <td>-</td>\n",
       "      <td>-</td>\n",
       "      <td>-</td>\n",
       "      <td>-</td>\n",
       "      <td>Penalty</td>\n",
       "      <td>Penalty</td>\n",
       "    </tr>\n",
       "    <tr>\n",
       "      <th>2</th>\n",
       "      <td>goal</td>\n",
       "      <td>Right</td>\n",
       "      <td>0.0</td>\n",
       "      <td>44.0</td>\n",
       "      <td>4</td>\n",
       "      <td>0</td>\n",
       "      <td>1</td>\n",
       "      <td>0</td>\n",
       "      <td>-</td>\n",
       "      <td>-</td>\n",
       "      <td>-</td>\n",
       "      <td>-</td>\n",
       "      <td>-</td>\n",
       "      <td>Penalty</td>\n",
       "      <td>Penalty</td>\n",
       "    </tr>\n",
       "    <tr>\n",
       "      <th>3</th>\n",
       "      <td>goal</td>\n",
       "      <td>Right</td>\n",
       "      <td>0.0</td>\n",
       "      <td>44.0</td>\n",
       "      <td>3</td>\n",
       "      <td>0</td>\n",
       "      <td>1</td>\n",
       "      <td>0</td>\n",
       "      <td>-</td>\n",
       "      <td>-</td>\n",
       "      <td>-</td>\n",
       "      <td>-</td>\n",
       "      <td>-</td>\n",
       "      <td>Penalty</td>\n",
       "      <td>Penalty</td>\n",
       "    </tr>\n",
       "    <tr>\n",
       "      <th>4</th>\n",
       "      <td>goal</td>\n",
       "      <td>Left</td>\n",
       "      <td>0.0</td>\n",
       "      <td>44.0</td>\n",
       "      <td>3</td>\n",
       "      <td>0</td>\n",
       "      <td>1</td>\n",
       "      <td>0</td>\n",
       "      <td>-</td>\n",
       "      <td>-</td>\n",
       "      <td>-</td>\n",
       "      <td>-</td>\n",
       "      <td>-</td>\n",
       "      <td>Penalty</td>\n",
       "      <td>Penalty</td>\n",
       "    </tr>\n",
       "  </tbody>\n",
       "</table>\n",
       "</div>"
      ],
      "text/plain": [
       "   icon bodyPart location_x location_y shotQuality defPressure numDefPlayers  \\\n",
       "0  goal    Right        0.0       44.0           3           0             1   \n",
       "1  goal    Right        0.0       44.0           3           0             1   \n",
       "2  goal    Right        0.0       44.0           4           0             1   \n",
       "3  goal    Right        0.0       44.0           3           0             1   \n",
       "4  goal     Left        0.0       44.0           3           0             1   \n",
       "\n",
       "  numAttPlayers outcome primaryType primaryLocation_x primaryLocation_y  \\\n",
       "0             0       -           -                 -                 -   \n",
       "1             0       -           -                 -                 -   \n",
       "2             0       -           -                 -                 -   \n",
       "3             0       -           -                 -                 -   \n",
       "4             0       -           -                 -                 -   \n",
       "\n",
       "  secondaryType chanceRating     type  \n",
       "0             -      Penalty  Penalty  \n",
       "1             -      Penalty  Penalty  \n",
       "2             -      Penalty  Penalty  \n",
       "3             -      Penalty  Penalty  \n",
       "4             -      Penalty  Penalty  "
      ]
     },
     "execution_count": 17,
     "metadata": {},
     "output_type": "execute_result"
    }
   ],
   "source": [
    "# df.loc[df['defPressure']  == '-'] + df.loc[['defPressure']  == 'NaN']\n",
    "df['shotQuality'] = df['shotQuality'].replace('-', 0)\n",
    "test['shotQuality'] = test['shotQuality'].replace('-',0)\n",
    "#empty.head()\n",
    "df.head()"
   ]
  },
  {
   "cell_type": "code",
   "execution_count": 23,
   "metadata": {},
   "outputs": [],
   "source": [
    "#df.shotQuality = df.shotQuality.astype(int)\n",
    "#test.shotQuality = test.shotQuality.astype(int)"
   ]
  },
  {
   "cell_type": "code",
   "execution_count": 24,
   "metadata": {},
   "outputs": [
    {
     "data": {
      "text/plain": [
       "array(['3', '4', '2', '0', '1', 0, nan, '5'], dtype=object)"
      ]
     },
     "execution_count": 24,
     "metadata": {},
     "output_type": "execute_result"
    }
   ],
   "source": [
    "df.shotQuality.unique()"
   ]
  },
  {
   "cell_type": "code",
   "execution_count": 25,
   "metadata": {},
   "outputs": [
    {
     "data": {
      "text/html": [
       "<div>\n",
       "<style scoped>\n",
       "    .dataframe tbody tr th:only-of-type {\n",
       "        vertical-align: middle;\n",
       "    }\n",
       "\n",
       "    .dataframe tbody tr th {\n",
       "        vertical-align: top;\n",
       "    }\n",
       "\n",
       "    .dataframe thead th {\n",
       "        text-align: right;\n",
       "    }\n",
       "</style>\n",
       "<table border=\"1\" class=\"dataframe\">\n",
       "  <thead>\n",
       "    <tr style=\"text-align: right;\">\n",
       "      <th></th>\n",
       "      <th>icon</th>\n",
       "      <th>bodyPart</th>\n",
       "      <th>location_x</th>\n",
       "      <th>location_y</th>\n",
       "      <th>shotQuality</th>\n",
       "      <th>defPressure</th>\n",
       "      <th>numDefPlayers</th>\n",
       "      <th>numAttPlayers</th>\n",
       "      <th>outcome</th>\n",
       "      <th>primaryType</th>\n",
       "      <th>primaryLocation_x</th>\n",
       "      <th>primaryLocation_y</th>\n",
       "      <th>secondaryType</th>\n",
       "      <th>chanceRating</th>\n",
       "      <th>type</th>\n",
       "    </tr>\n",
       "  </thead>\n",
       "  <tbody>\n",
       "    <tr>\n",
       "      <th>0</th>\n",
       "      <td>goal</td>\n",
       "      <td>Right</td>\n",
       "      <td>0.0</td>\n",
       "      <td>44.0</td>\n",
       "      <td>3</td>\n",
       "      <td>0</td>\n",
       "      <td>1</td>\n",
       "      <td>0</td>\n",
       "      <td>-</td>\n",
       "      <td>-</td>\n",
       "      <td>-</td>\n",
       "      <td>-</td>\n",
       "      <td>-</td>\n",
       "      <td>Penalty</td>\n",
       "      <td>Penalty</td>\n",
       "    </tr>\n",
       "    <tr>\n",
       "      <th>1</th>\n",
       "      <td>goal</td>\n",
       "      <td>Right</td>\n",
       "      <td>0.0</td>\n",
       "      <td>44.0</td>\n",
       "      <td>3</td>\n",
       "      <td>0</td>\n",
       "      <td>1</td>\n",
       "      <td>0</td>\n",
       "      <td>-</td>\n",
       "      <td>-</td>\n",
       "      <td>-</td>\n",
       "      <td>-</td>\n",
       "      <td>-</td>\n",
       "      <td>Penalty</td>\n",
       "      <td>Penalty</td>\n",
       "    </tr>\n",
       "    <tr>\n",
       "      <th>2</th>\n",
       "      <td>goal</td>\n",
       "      <td>Right</td>\n",
       "      <td>0.0</td>\n",
       "      <td>44.0</td>\n",
       "      <td>4</td>\n",
       "      <td>0</td>\n",
       "      <td>1</td>\n",
       "      <td>0</td>\n",
       "      <td>-</td>\n",
       "      <td>-</td>\n",
       "      <td>-</td>\n",
       "      <td>-</td>\n",
       "      <td>-</td>\n",
       "      <td>Penalty</td>\n",
       "      <td>Penalty</td>\n",
       "    </tr>\n",
       "    <tr>\n",
       "      <th>3</th>\n",
       "      <td>goal</td>\n",
       "      <td>Right</td>\n",
       "      <td>0.0</td>\n",
       "      <td>44.0</td>\n",
       "      <td>3</td>\n",
       "      <td>0</td>\n",
       "      <td>1</td>\n",
       "      <td>0</td>\n",
       "      <td>-</td>\n",
       "      <td>-</td>\n",
       "      <td>-</td>\n",
       "      <td>-</td>\n",
       "      <td>-</td>\n",
       "      <td>Penalty</td>\n",
       "      <td>Penalty</td>\n",
       "    </tr>\n",
       "    <tr>\n",
       "      <th>4</th>\n",
       "      <td>goal</td>\n",
       "      <td>Left</td>\n",
       "      <td>0.0</td>\n",
       "      <td>44.0</td>\n",
       "      <td>3</td>\n",
       "      <td>0</td>\n",
       "      <td>1</td>\n",
       "      <td>0</td>\n",
       "      <td>-</td>\n",
       "      <td>-</td>\n",
       "      <td>-</td>\n",
       "      <td>-</td>\n",
       "      <td>-</td>\n",
       "      <td>Penalty</td>\n",
       "      <td>Penalty</td>\n",
       "    </tr>\n",
       "  </tbody>\n",
       "</table>\n",
       "</div>"
      ],
      "text/plain": [
       "   icon bodyPart location_x location_y shotQuality defPressure numDefPlayers  \\\n",
       "0  goal    Right        0.0       44.0           3           0             1   \n",
       "1  goal    Right        0.0       44.0           3           0             1   \n",
       "2  goal    Right        0.0       44.0           4           0             1   \n",
       "3  goal    Right        0.0       44.0           3           0             1   \n",
       "4  goal     Left        0.0       44.0           3           0             1   \n",
       "\n",
       "  numAttPlayers outcome primaryType primaryLocation_x primaryLocation_y  \\\n",
       "0             0       -           -                 -                 -   \n",
       "1             0       -           -                 -                 -   \n",
       "2             0       -           -                 -                 -   \n",
       "3             0       -           -                 -                 -   \n",
       "4             0       -           -                 -                 -   \n",
       "\n",
       "  secondaryType chanceRating     type  \n",
       "0             -      Penalty  Penalty  \n",
       "1             -      Penalty  Penalty  \n",
       "2             -      Penalty  Penalty  \n",
       "3             -      Penalty  Penalty  \n",
       "4             -      Penalty  Penalty  "
      ]
     },
     "execution_count": 25,
     "metadata": {},
     "output_type": "execute_result"
    }
   ],
   "source": [
    "df.head()"
   ]
  },
  {
   "cell_type": "code",
   "execution_count": 26,
   "metadata": {},
   "outputs": [
    {
     "data": {
      "text/plain": [
       "array(['3', '2', '0', '1', '4', '5', 0], dtype=object)"
      ]
     },
     "execution_count": 26,
     "metadata": {},
     "output_type": "execute_result"
    }
   ],
   "source": [
    "df = df.dropna(subset = ['shotQuality']) # remove where shotQuality is NaN\n",
    "test = test.dropna(subset = ['shotQuality'])\n",
    "test.shotQuality.unique()"
   ]
  },
  {
   "cell_type": "code",
   "execution_count": 27,
   "metadata": {},
   "outputs": [
    {
     "data": {
      "text/plain": [
       "array(['3', '4', '2', '0', '1', 0, '5'], dtype=object)"
      ]
     },
     "execution_count": 27,
     "metadata": {},
     "output_type": "execute_result"
    }
   ],
   "source": [
    "df.shotQuality.unique()"
   ]
  },
  {
   "cell_type": "code",
   "execution_count": 28,
   "metadata": {},
   "outputs": [],
   "source": [
    "df = df[df.icon != 'owngoal'] # removing own goals\n",
    "test = test[test.icon != 'owngoal'] # removing own goals"
   ]
  },
  {
   "cell_type": "code",
   "execution_count": 29,
   "metadata": {},
   "outputs": [
    {
     "data": {
      "text/plain": [
       "array(['3', '4', '2', '0', '1', '5'], dtype=object)"
      ]
     },
     "execution_count": 29,
     "metadata": {},
     "output_type": "execute_result"
    }
   ],
   "source": [
    "df.shotQuality.unique()"
   ]
  },
  {
   "cell_type": "code",
   "execution_count": 30,
   "metadata": {},
   "outputs": [
    {
     "data": {
      "text/plain": [
       "array(['-', 'Cross High', 'Free Kick', 'Cross Low', 'Open Play Pass',\n",
       "       'Free Kick Won', 'Corner', 'Shot (Deflection)',\n",
       "       'Shot (Opposition Rebound)', 'Turnover', 'Penalty Earned',\n",
       "       'Throw in', 'Shot (Woodwork Rebound)', 'Dangerous Moment',\n",
       "       'Corner Won'], dtype=object)"
      ]
     },
     "execution_count": 30,
     "metadata": {},
     "output_type": "execute_result"
    }
   ],
   "source": [
    "df.primaryType.unique()"
   ]
  },
  {
   "cell_type": "code",
   "execution_count": 31,
   "metadata": {},
   "outputs": [],
   "source": [
    "# further reductio of attributes"
   ]
  },
  {
   "cell_type": "code",
   "execution_count": 32,
   "metadata": {},
   "outputs": [
    {
     "data": {
      "text/html": [
       "<div>\n",
       "<style scoped>\n",
       "    .dataframe tbody tr th:only-of-type {\n",
       "        vertical-align: middle;\n",
       "    }\n",
       "\n",
       "    .dataframe tbody tr th {\n",
       "        vertical-align: top;\n",
       "    }\n",
       "\n",
       "    .dataframe thead th {\n",
       "        text-align: right;\n",
       "    }\n",
       "</style>\n",
       "<table border=\"1\" class=\"dataframe\">\n",
       "  <thead>\n",
       "    <tr style=\"text-align: right;\">\n",
       "      <th></th>\n",
       "      <th>icon</th>\n",
       "      <th>location_x</th>\n",
       "      <th>location_y</th>\n",
       "      <th>shotQuality</th>\n",
       "      <th>defPressure</th>\n",
       "      <th>numDefPlayers</th>\n",
       "      <th>numAttPlayers</th>\n",
       "      <th>outcome</th>\n",
       "      <th>chanceRating</th>\n",
       "      <th>type</th>\n",
       "    </tr>\n",
       "  </thead>\n",
       "  <tbody>\n",
       "    <tr>\n",
       "      <th>0</th>\n",
       "      <td>goal</td>\n",
       "      <td>0.0</td>\n",
       "      <td>44.0</td>\n",
       "      <td>3</td>\n",
       "      <td>0</td>\n",
       "      <td>1</td>\n",
       "      <td>0</td>\n",
       "      <td>-</td>\n",
       "      <td>Penalty</td>\n",
       "      <td>Penalty</td>\n",
       "    </tr>\n",
       "    <tr>\n",
       "      <th>1</th>\n",
       "      <td>goal</td>\n",
       "      <td>0.0</td>\n",
       "      <td>44.0</td>\n",
       "      <td>3</td>\n",
       "      <td>0</td>\n",
       "      <td>1</td>\n",
       "      <td>0</td>\n",
       "      <td>-</td>\n",
       "      <td>Penalty</td>\n",
       "      <td>Penalty</td>\n",
       "    </tr>\n",
       "    <tr>\n",
       "      <th>2</th>\n",
       "      <td>goal</td>\n",
       "      <td>0.0</td>\n",
       "      <td>44.0</td>\n",
       "      <td>4</td>\n",
       "      <td>0</td>\n",
       "      <td>1</td>\n",
       "      <td>0</td>\n",
       "      <td>-</td>\n",
       "      <td>Penalty</td>\n",
       "      <td>Penalty</td>\n",
       "    </tr>\n",
       "    <tr>\n",
       "      <th>3</th>\n",
       "      <td>goal</td>\n",
       "      <td>0.0</td>\n",
       "      <td>44.0</td>\n",
       "      <td>3</td>\n",
       "      <td>0</td>\n",
       "      <td>1</td>\n",
       "      <td>0</td>\n",
       "      <td>-</td>\n",
       "      <td>Penalty</td>\n",
       "      <td>Penalty</td>\n",
       "    </tr>\n",
       "    <tr>\n",
       "      <th>4</th>\n",
       "      <td>goal</td>\n",
       "      <td>0.0</td>\n",
       "      <td>44.0</td>\n",
       "      <td>3</td>\n",
       "      <td>0</td>\n",
       "      <td>1</td>\n",
       "      <td>0</td>\n",
       "      <td>-</td>\n",
       "      <td>Penalty</td>\n",
       "      <td>Penalty</td>\n",
       "    </tr>\n",
       "  </tbody>\n",
       "</table>\n",
       "</div>"
      ],
      "text/plain": [
       "   icon location_x location_y shotQuality defPressure numDefPlayers  \\\n",
       "0  goal        0.0       44.0           3           0             1   \n",
       "1  goal        0.0       44.0           3           0             1   \n",
       "2  goal        0.0       44.0           4           0             1   \n",
       "3  goal        0.0       44.0           3           0             1   \n",
       "4  goal        0.0       44.0           3           0             1   \n",
       "\n",
       "  numAttPlayers outcome chanceRating     type  \n",
       "0             0       -      Penalty  Penalty  \n",
       "1             0       -      Penalty  Penalty  \n",
       "2             0       -      Penalty  Penalty  \n",
       "3             0       -      Penalty  Penalty  \n",
       "4             0       -      Penalty  Penalty  "
      ]
     },
     "execution_count": 32,
     "metadata": {},
     "output_type": "execute_result"
    }
   ],
   "source": [
    "df = df[['icon', \"location_x\",\"location_y\",\"shotQuality\",\"defPressure\",\"numDefPlayers\",\"numAttPlayers\",\"outcome\", 'chanceRating', 'type']] \n",
    "test = test[['icon', \"location_x\",\"location_y\",\"shotQuality\",\"defPressure\",\"numDefPlayers\",\"numAttPlayers\",\"outcome\", 'chanceRating', 'type']]\n",
    "df.head()"
   ]
  },
  {
   "cell_type": "code",
   "execution_count": 33,
   "metadata": {},
   "outputs": [
    {
     "data": {
      "text/html": [
       "<div>\n",
       "<style scoped>\n",
       "    .dataframe tbody tr th:only-of-type {\n",
       "        vertical-align: middle;\n",
       "    }\n",
       "\n",
       "    .dataframe tbody tr th {\n",
       "        vertical-align: top;\n",
       "    }\n",
       "\n",
       "    .dataframe thead th {\n",
       "        text-align: right;\n",
       "    }\n",
       "</style>\n",
       "<table border=\"1\" class=\"dataframe\">\n",
       "  <thead>\n",
       "    <tr style=\"text-align: right;\">\n",
       "      <th></th>\n",
       "      <th>icon</th>\n",
       "      <th>location_x</th>\n",
       "      <th>location_y</th>\n",
       "      <th>shotQuality</th>\n",
       "      <th>defPressure</th>\n",
       "      <th>numDefPlayers</th>\n",
       "      <th>numAttPlayers</th>\n",
       "      <th>outcome</th>\n",
       "      <th>chanceRating</th>\n",
       "      <th>type</th>\n",
       "    </tr>\n",
       "  </thead>\n",
       "  <tbody>\n",
       "    <tr>\n",
       "      <th>2</th>\n",
       "      <td>goodchance</td>\n",
       "      <td>37.0</td>\n",
       "      <td>50.0</td>\n",
       "      <td>2</td>\n",
       "      <td>3</td>\n",
       "      <td>4</td>\n",
       "      <td>0</td>\n",
       "      <td>Missed</td>\n",
       "      <td>goodchance</td>\n",
       "      <td>Open Play</td>\n",
       "    </tr>\n",
       "    <tr>\n",
       "      <th>3</th>\n",
       "      <td>fairlygoodchance</td>\n",
       "      <td>67.0</td>\n",
       "      <td>36.0</td>\n",
       "      <td>2</td>\n",
       "      <td>1</td>\n",
       "      <td>4</td>\n",
       "      <td>1</td>\n",
       "      <td>Missed</td>\n",
       "      <td>fairlygoodchance</td>\n",
       "      <td>Open Play</td>\n",
       "    </tr>\n",
       "    <tr>\n",
       "      <th>4</th>\n",
       "      <td>greatchance</td>\n",
       "      <td>2.0</td>\n",
       "      <td>38.0</td>\n",
       "      <td>0</td>\n",
       "      <td>3</td>\n",
       "      <td>1</td>\n",
       "      <td>0</td>\n",
       "      <td>Defended</td>\n",
       "      <td>greatchance</td>\n",
       "      <td>Dangerous Moment</td>\n",
       "    </tr>\n",
       "    <tr>\n",
       "      <th>5</th>\n",
       "      <td>fairlygoodchance</td>\n",
       "      <td>35.0</td>\n",
       "      <td>58.0</td>\n",
       "      <td>3</td>\n",
       "      <td>3</td>\n",
       "      <td>2</td>\n",
       "      <td>0</td>\n",
       "      <td>Saved</td>\n",
       "      <td>fairlygoodchance</td>\n",
       "      <td>Open Play</td>\n",
       "    </tr>\n",
       "    <tr>\n",
       "      <th>6</th>\n",
       "      <td>verygoodchance</td>\n",
       "      <td>-45.0</td>\n",
       "      <td>35.0</td>\n",
       "      <td>1</td>\n",
       "      <td>1</td>\n",
       "      <td>1</td>\n",
       "      <td>0</td>\n",
       "      <td>Missed</td>\n",
       "      <td>verygoodchance</td>\n",
       "      <td>Open Play</td>\n",
       "    </tr>\n",
       "    <tr>\n",
       "      <th>7</th>\n",
       "      <td>poorchance</td>\n",
       "      <td>63.0</td>\n",
       "      <td>51.0</td>\n",
       "      <td>2</td>\n",
       "      <td>4</td>\n",
       "      <td>4</td>\n",
       "      <td>0</td>\n",
       "      <td>Defended</td>\n",
       "      <td>poorchance</td>\n",
       "      <td>Open Play</td>\n",
       "    </tr>\n",
       "    <tr>\n",
       "      <th>8</th>\n",
       "      <td>greatchance</td>\n",
       "      <td>-11.0</td>\n",
       "      <td>18.0</td>\n",
       "      <td>2</td>\n",
       "      <td>3</td>\n",
       "      <td>3</td>\n",
       "      <td>0</td>\n",
       "      <td>Missed</td>\n",
       "      <td>greatchance</td>\n",
       "      <td>Open Play</td>\n",
       "    </tr>\n",
       "    <tr>\n",
       "      <th>9</th>\n",
       "      <td>fairlygoodchance</td>\n",
       "      <td>-34.0</td>\n",
       "      <td>56.0</td>\n",
       "      <td>2</td>\n",
       "      <td>1</td>\n",
       "      <td>3</td>\n",
       "      <td>1</td>\n",
       "      <td>Defended</td>\n",
       "      <td>fairlygoodchance</td>\n",
       "      <td>Open Play</td>\n",
       "    </tr>\n",
       "    <tr>\n",
       "      <th>10</th>\n",
       "      <td>fairlygoodchance</td>\n",
       "      <td>-31.0</td>\n",
       "      <td>73.0</td>\n",
       "      <td>2</td>\n",
       "      <td>1</td>\n",
       "      <td>3</td>\n",
       "      <td>1</td>\n",
       "      <td>Defended</td>\n",
       "      <td>fairlygoodchance</td>\n",
       "      <td>Open Play</td>\n",
       "    </tr>\n",
       "    <tr>\n",
       "      <th>11</th>\n",
       "      <td>fairlygoodchance</td>\n",
       "      <td>42.0</td>\n",
       "      <td>10.0</td>\n",
       "      <td>2</td>\n",
       "      <td>2</td>\n",
       "      <td>3</td>\n",
       "      <td>0</td>\n",
       "      <td>Missed</td>\n",
       "      <td>fairlygoodchance</td>\n",
       "      <td>Open Play</td>\n",
       "    </tr>\n",
       "    <tr>\n",
       "      <th>12</th>\n",
       "      <td>poorchance</td>\n",
       "      <td>8.0</td>\n",
       "      <td>107.0</td>\n",
       "      <td>3</td>\n",
       "      <td>1</td>\n",
       "      <td>4</td>\n",
       "      <td>2</td>\n",
       "      <td>Saved</td>\n",
       "      <td>poorchance</td>\n",
       "      <td>Open Play</td>\n",
       "    </tr>\n",
       "    <tr>\n",
       "      <th>13</th>\n",
       "      <td>verygoodchance</td>\n",
       "      <td>-9.0</td>\n",
       "      <td>24.0</td>\n",
       "      <td>0</td>\n",
       "      <td>1</td>\n",
       "      <td>1</td>\n",
       "      <td>0</td>\n",
       "      <td>Missed</td>\n",
       "      <td>verygoodchance</td>\n",
       "      <td>Dangerous Moment</td>\n",
       "    </tr>\n",
       "    <tr>\n",
       "      <th>14</th>\n",
       "      <td>fairlygoodchance</td>\n",
       "      <td>4.0</td>\n",
       "      <td>91.0</td>\n",
       "      <td>3</td>\n",
       "      <td>1</td>\n",
       "      <td>3</td>\n",
       "      <td>2</td>\n",
       "      <td>Saved</td>\n",
       "      <td>fairlygoodchance</td>\n",
       "      <td>Open Play</td>\n",
       "    </tr>\n",
       "    <tr>\n",
       "      <th>15</th>\n",
       "      <td>poorchance</td>\n",
       "      <td>-68.0</td>\n",
       "      <td>56.0</td>\n",
       "      <td>1</td>\n",
       "      <td>1</td>\n",
       "      <td>3</td>\n",
       "      <td>0</td>\n",
       "      <td>Missed</td>\n",
       "      <td>poorchance</td>\n",
       "      <td>Open Play</td>\n",
       "    </tr>\n",
       "    <tr>\n",
       "      <th>16</th>\n",
       "      <td>goodchance</td>\n",
       "      <td>45.0</td>\n",
       "      <td>42.0</td>\n",
       "      <td>2</td>\n",
       "      <td>2</td>\n",
       "      <td>2</td>\n",
       "      <td>0</td>\n",
       "      <td>Missed</td>\n",
       "      <td>goodchance</td>\n",
       "      <td>Open Play</td>\n",
       "    </tr>\n",
       "    <tr>\n",
       "      <th>17</th>\n",
       "      <td>greatchance</td>\n",
       "      <td>-18.0</td>\n",
       "      <td>13.0</td>\n",
       "      <td>3</td>\n",
       "      <td>4</td>\n",
       "      <td>2</td>\n",
       "      <td>0</td>\n",
       "      <td>Saved</td>\n",
       "      <td>greatchance</td>\n",
       "      <td>Open Play</td>\n",
       "    </tr>\n",
       "    <tr>\n",
       "      <th>18</th>\n",
       "      <td>poorchance</td>\n",
       "      <td>3.0</td>\n",
       "      <td>97.0</td>\n",
       "      <td>2</td>\n",
       "      <td>1</td>\n",
       "      <td>3</td>\n",
       "      <td>2</td>\n",
       "      <td>Missed</td>\n",
       "      <td>poorchance</td>\n",
       "      <td>Open Play</td>\n",
       "    </tr>\n",
       "    <tr>\n",
       "      <th>19</th>\n",
       "      <td>poorchance</td>\n",
       "      <td>31.0</td>\n",
       "      <td>92.0</td>\n",
       "      <td>2</td>\n",
       "      <td>1</td>\n",
       "      <td>4</td>\n",
       "      <td>1</td>\n",
       "      <td>Defended</td>\n",
       "      <td>poorchance</td>\n",
       "      <td>Open Play</td>\n",
       "    </tr>\n",
       "    <tr>\n",
       "      <th>20</th>\n",
       "      <td>poorchance</td>\n",
       "      <td>-27.0</td>\n",
       "      <td>107.0</td>\n",
       "      <td>2</td>\n",
       "      <td>1</td>\n",
       "      <td>5</td>\n",
       "      <td>3</td>\n",
       "      <td>Missed</td>\n",
       "      <td>poorchance</td>\n",
       "      <td>Open Play</td>\n",
       "    </tr>\n",
       "    <tr>\n",
       "      <th>29</th>\n",
       "      <td>greatchance</td>\n",
       "      <td>-41.0</td>\n",
       "      <td>58.0</td>\n",
       "      <td>3</td>\n",
       "      <td>4</td>\n",
       "      <td>1</td>\n",
       "      <td>0</td>\n",
       "      <td>Saved</td>\n",
       "      <td>greatchance</td>\n",
       "      <td>Open Play</td>\n",
       "    </tr>\n",
       "    <tr>\n",
       "      <th>30</th>\n",
       "      <td>fairlygoodchance</td>\n",
       "      <td>-48.0</td>\n",
       "      <td>56.0</td>\n",
       "      <td>2</td>\n",
       "      <td>5</td>\n",
       "      <td>3</td>\n",
       "      <td>0</td>\n",
       "      <td>Missed</td>\n",
       "      <td>fairlygoodchance</td>\n",
       "      <td>Open Play</td>\n",
       "    </tr>\n",
       "    <tr>\n",
       "      <th>31</th>\n",
       "      <td>goodchance</td>\n",
       "      <td>-16.0</td>\n",
       "      <td>59.0</td>\n",
       "      <td>3</td>\n",
       "      <td>3</td>\n",
       "      <td>3</td>\n",
       "      <td>0</td>\n",
       "      <td>Saved</td>\n",
       "      <td>goodchance</td>\n",
       "      <td>Open Play</td>\n",
       "    </tr>\n",
       "    <tr>\n",
       "      <th>32</th>\n",
       "      <td>goodchance</td>\n",
       "      <td>51.0</td>\n",
       "      <td>41.0</td>\n",
       "      <td>2</td>\n",
       "      <td>3</td>\n",
       "      <td>2</td>\n",
       "      <td>0</td>\n",
       "      <td>Missed</td>\n",
       "      <td>goodchance</td>\n",
       "      <td>Open Play</td>\n",
       "    </tr>\n",
       "    <tr>\n",
       "      <th>33</th>\n",
       "      <td>greatchance</td>\n",
       "      <td>-14.0</td>\n",
       "      <td>14.0</td>\n",
       "      <td>1</td>\n",
       "      <td>0</td>\n",
       "      <td>1</td>\n",
       "      <td>0</td>\n",
       "      <td>Missed</td>\n",
       "      <td>greatchance</td>\n",
       "      <td>Open Play</td>\n",
       "    </tr>\n",
       "    <tr>\n",
       "      <th>35</th>\n",
       "      <td>fairlygoodchance</td>\n",
       "      <td>-66.0</td>\n",
       "      <td>25.0</td>\n",
       "      <td>3</td>\n",
       "      <td>4</td>\n",
       "      <td>2</td>\n",
       "      <td>0</td>\n",
       "      <td>Defended</td>\n",
       "      <td>fairlygoodchance</td>\n",
       "      <td>Open Play</td>\n",
       "    </tr>\n",
       "    <tr>\n",
       "      <th>36</th>\n",
       "      <td>fairlygoodchance</td>\n",
       "      <td>68.0</td>\n",
       "      <td>44.0</td>\n",
       "      <td>2</td>\n",
       "      <td>2</td>\n",
       "      <td>3</td>\n",
       "      <td>0</td>\n",
       "      <td>Missed</td>\n",
       "      <td>fairlygoodchance</td>\n",
       "      <td>Open Play</td>\n",
       "    </tr>\n",
       "    <tr>\n",
       "      <th>37</th>\n",
       "      <td>poorchance</td>\n",
       "      <td>-54.0</td>\n",
       "      <td>87.0</td>\n",
       "      <td>2</td>\n",
       "      <td>3</td>\n",
       "      <td>3</td>\n",
       "      <td>0</td>\n",
       "      <td>Missed</td>\n",
       "      <td>poorchance</td>\n",
       "      <td>Open Play</td>\n",
       "    </tr>\n",
       "    <tr>\n",
       "      <th>38</th>\n",
       "      <td>goodchance</td>\n",
       "      <td>34.0</td>\n",
       "      <td>39.0</td>\n",
       "      <td>1</td>\n",
       "      <td>3</td>\n",
       "      <td>4</td>\n",
       "      <td>0</td>\n",
       "      <td>Missed</td>\n",
       "      <td>goodchance</td>\n",
       "      <td>Open Play</td>\n",
       "    </tr>\n",
       "    <tr>\n",
       "      <th>39</th>\n",
       "      <td>goodchance</td>\n",
       "      <td>49.0</td>\n",
       "      <td>44.0</td>\n",
       "      <td>3</td>\n",
       "      <td>3</td>\n",
       "      <td>2</td>\n",
       "      <td>0</td>\n",
       "      <td>Saved</td>\n",
       "      <td>goodchance</td>\n",
       "      <td>Open Play</td>\n",
       "    </tr>\n",
       "    <tr>\n",
       "      <th>40</th>\n",
       "      <td>fairlygoodchance</td>\n",
       "      <td>39.0</td>\n",
       "      <td>41.0</td>\n",
       "      <td>2</td>\n",
       "      <td>4</td>\n",
       "      <td>3</td>\n",
       "      <td>0</td>\n",
       "      <td>Missed</td>\n",
       "      <td>fairlygoodchance</td>\n",
       "      <td>Open Play</td>\n",
       "    </tr>\n",
       "    <tr>\n",
       "      <th>...</th>\n",
       "      <td>...</td>\n",
       "      <td>...</td>\n",
       "      <td>...</td>\n",
       "      <td>...</td>\n",
       "      <td>...</td>\n",
       "      <td>...</td>\n",
       "      <td>...</td>\n",
       "      <td>...</td>\n",
       "      <td>...</td>\n",
       "      <td>...</td>\n",
       "    </tr>\n",
       "    <tr>\n",
       "      <th>6673</th>\n",
       "      <td>poorchance</td>\n",
       "      <td>17.0</td>\n",
       "      <td>78.0</td>\n",
       "      <td>2</td>\n",
       "      <td>3</td>\n",
       "      <td>3</td>\n",
       "      <td>0</td>\n",
       "      <td>Missed</td>\n",
       "      <td>poorchance</td>\n",
       "      <td>Open Play</td>\n",
       "    </tr>\n",
       "    <tr>\n",
       "      <th>6674</th>\n",
       "      <td>poorchance</td>\n",
       "      <td>-20.0</td>\n",
       "      <td>86.0</td>\n",
       "      <td>2</td>\n",
       "      <td>2</td>\n",
       "      <td>2</td>\n",
       "      <td>0</td>\n",
       "      <td>Defended</td>\n",
       "      <td>poorchance</td>\n",
       "      <td>Open Play</td>\n",
       "    </tr>\n",
       "    <tr>\n",
       "      <th>6675</th>\n",
       "      <td>poorchance</td>\n",
       "      <td>-56.0</td>\n",
       "      <td>85.0</td>\n",
       "      <td>2</td>\n",
       "      <td>2</td>\n",
       "      <td>4</td>\n",
       "      <td>1</td>\n",
       "      <td>Saved</td>\n",
       "      <td>poorchance</td>\n",
       "      <td>Open Play</td>\n",
       "    </tr>\n",
       "    <tr>\n",
       "      <th>6693</th>\n",
       "      <td>fairlygoodchance</td>\n",
       "      <td>32.0</td>\n",
       "      <td>15.0</td>\n",
       "      <td>3</td>\n",
       "      <td>4</td>\n",
       "      <td>5</td>\n",
       "      <td>1</td>\n",
       "      <td>Missed</td>\n",
       "      <td>fairlygoodchance</td>\n",
       "      <td>Open Play</td>\n",
       "    </tr>\n",
       "    <tr>\n",
       "      <th>6694</th>\n",
       "      <td>poorchance</td>\n",
       "      <td>-36.0</td>\n",
       "      <td>105.0</td>\n",
       "      <td>1</td>\n",
       "      <td>1</td>\n",
       "      <td>5</td>\n",
       "      <td>2</td>\n",
       "      <td>Missed</td>\n",
       "      <td>poorchance</td>\n",
       "      <td>Open Play</td>\n",
       "    </tr>\n",
       "    <tr>\n",
       "      <th>6695</th>\n",
       "      <td>goodchance</td>\n",
       "      <td>-10.0</td>\n",
       "      <td>37.0</td>\n",
       "      <td>3</td>\n",
       "      <td>4</td>\n",
       "      <td>2</td>\n",
       "      <td>0</td>\n",
       "      <td>Missed</td>\n",
       "      <td>goodchance</td>\n",
       "      <td>Open Play</td>\n",
       "    </tr>\n",
       "    <tr>\n",
       "      <th>6696</th>\n",
       "      <td>goodchance</td>\n",
       "      <td>38.0</td>\n",
       "      <td>32.0</td>\n",
       "      <td>3</td>\n",
       "      <td>4</td>\n",
       "      <td>2</td>\n",
       "      <td>0</td>\n",
       "      <td>Saved</td>\n",
       "      <td>goodchance</td>\n",
       "      <td>Open Play</td>\n",
       "    </tr>\n",
       "    <tr>\n",
       "      <th>6697</th>\n",
       "      <td>poorchance</td>\n",
       "      <td>-3.0</td>\n",
       "      <td>113.0</td>\n",
       "      <td>2</td>\n",
       "      <td>0</td>\n",
       "      <td>3</td>\n",
       "      <td>0</td>\n",
       "      <td>Defended</td>\n",
       "      <td>poorchance</td>\n",
       "      <td>Open Play</td>\n",
       "    </tr>\n",
       "    <tr>\n",
       "      <th>6698</th>\n",
       "      <td>verygoodchance</td>\n",
       "      <td>47.0</td>\n",
       "      <td>35.0</td>\n",
       "      <td>2</td>\n",
       "      <td>1</td>\n",
       "      <td>1</td>\n",
       "      <td>0</td>\n",
       "      <td>Missed</td>\n",
       "      <td>verygoodchance</td>\n",
       "      <td>Open Play</td>\n",
       "    </tr>\n",
       "    <tr>\n",
       "      <th>6699</th>\n",
       "      <td>poorchance</td>\n",
       "      <td>-47.0</td>\n",
       "      <td>115.0</td>\n",
       "      <td>1</td>\n",
       "      <td>0</td>\n",
       "      <td>4</td>\n",
       "      <td>2</td>\n",
       "      <td>Defended</td>\n",
       "      <td>poorchance</td>\n",
       "      <td>Open Play</td>\n",
       "    </tr>\n",
       "    <tr>\n",
       "      <th>6700</th>\n",
       "      <td>fairlygoodchance</td>\n",
       "      <td>-68.0</td>\n",
       "      <td>59.0</td>\n",
       "      <td>2</td>\n",
       "      <td>0</td>\n",
       "      <td>2</td>\n",
       "      <td>0</td>\n",
       "      <td>Defended</td>\n",
       "      <td>fairlygoodchance</td>\n",
       "      <td>Open Play</td>\n",
       "    </tr>\n",
       "    <tr>\n",
       "      <th>6701</th>\n",
       "      <td>greatchance</td>\n",
       "      <td>-44.0</td>\n",
       "      <td>29.0</td>\n",
       "      <td>3</td>\n",
       "      <td>3</td>\n",
       "      <td>1</td>\n",
       "      <td>0</td>\n",
       "      <td>Saved</td>\n",
       "      <td>greatchance</td>\n",
       "      <td>Open Play</td>\n",
       "    </tr>\n",
       "    <tr>\n",
       "      <th>6702</th>\n",
       "      <td>fairlygoodchance</td>\n",
       "      <td>-13.0</td>\n",
       "      <td>85.0</td>\n",
       "      <td>3</td>\n",
       "      <td>3</td>\n",
       "      <td>4</td>\n",
       "      <td>0</td>\n",
       "      <td>Saved</td>\n",
       "      <td>fairlygoodchance</td>\n",
       "      <td>Open Play</td>\n",
       "    </tr>\n",
       "    <tr>\n",
       "      <th>6703</th>\n",
       "      <td>goodchance</td>\n",
       "      <td>56.0</td>\n",
       "      <td>36.0</td>\n",
       "      <td>2</td>\n",
       "      <td>0</td>\n",
       "      <td>2</td>\n",
       "      <td>0</td>\n",
       "      <td>Saved</td>\n",
       "      <td>goodchance</td>\n",
       "      <td>Open Play</td>\n",
       "    </tr>\n",
       "    <tr>\n",
       "      <th>6704</th>\n",
       "      <td>poorchance</td>\n",
       "      <td>38.0</td>\n",
       "      <td>98.0</td>\n",
       "      <td>1</td>\n",
       "      <td>0</td>\n",
       "      <td>5</td>\n",
       "      <td>1</td>\n",
       "      <td>Missed</td>\n",
       "      <td>poorchance</td>\n",
       "      <td>Open Play</td>\n",
       "    </tr>\n",
       "    <tr>\n",
       "      <th>6705</th>\n",
       "      <td>fairlygoodchance</td>\n",
       "      <td>-6.0</td>\n",
       "      <td>84.0</td>\n",
       "      <td>3</td>\n",
       "      <td>0</td>\n",
       "      <td>2</td>\n",
       "      <td>1</td>\n",
       "      <td>Saved</td>\n",
       "      <td>fairlygoodchance</td>\n",
       "      <td>Open Play</td>\n",
       "    </tr>\n",
       "    <tr>\n",
       "      <th>6706</th>\n",
       "      <td>poorchance</td>\n",
       "      <td>-16.0</td>\n",
       "      <td>102.0</td>\n",
       "      <td>2</td>\n",
       "      <td>4</td>\n",
       "      <td>4</td>\n",
       "      <td>0</td>\n",
       "      <td>Missed</td>\n",
       "      <td>poorchance</td>\n",
       "      <td>Open Play</td>\n",
       "    </tr>\n",
       "    <tr>\n",
       "      <th>6707</th>\n",
       "      <td>poorchance</td>\n",
       "      <td>59.0</td>\n",
       "      <td>14.0</td>\n",
       "      <td>0</td>\n",
       "      <td>5</td>\n",
       "      <td>3</td>\n",
       "      <td>0</td>\n",
       "      <td>Defended</td>\n",
       "      <td>poorchance</td>\n",
       "      <td>Dangerous Moment</td>\n",
       "    </tr>\n",
       "    <tr>\n",
       "      <th>6708</th>\n",
       "      <td>poorchance</td>\n",
       "      <td>-21.0</td>\n",
       "      <td>103.0</td>\n",
       "      <td>1</td>\n",
       "      <td>0</td>\n",
       "      <td>2</td>\n",
       "      <td>0</td>\n",
       "      <td>Missed</td>\n",
       "      <td>poorchance</td>\n",
       "      <td>Open Play</td>\n",
       "    </tr>\n",
       "    <tr>\n",
       "      <th>6709</th>\n",
       "      <td>poorchance</td>\n",
       "      <td>13.0</td>\n",
       "      <td>109.0</td>\n",
       "      <td>1</td>\n",
       "      <td>3</td>\n",
       "      <td>4</td>\n",
       "      <td>1</td>\n",
       "      <td>Defended</td>\n",
       "      <td>poorchance</td>\n",
       "      <td>Open Play</td>\n",
       "    </tr>\n",
       "    <tr>\n",
       "      <th>6710</th>\n",
       "      <td>poorchance</td>\n",
       "      <td>-53.0</td>\n",
       "      <td>97.0</td>\n",
       "      <td>1</td>\n",
       "      <td>0</td>\n",
       "      <td>3</td>\n",
       "      <td>1</td>\n",
       "      <td>Missed</td>\n",
       "      <td>poorchance</td>\n",
       "      <td>Open Play</td>\n",
       "    </tr>\n",
       "    <tr>\n",
       "      <th>6711</th>\n",
       "      <td>goodchance</td>\n",
       "      <td>17.0</td>\n",
       "      <td>53.0</td>\n",
       "      <td>2</td>\n",
       "      <td>0</td>\n",
       "      <td>3</td>\n",
       "      <td>1</td>\n",
       "      <td>Defended</td>\n",
       "      <td>goodchance</td>\n",
       "      <td>Open Play</td>\n",
       "    </tr>\n",
       "    <tr>\n",
       "      <th>6712</th>\n",
       "      <td>poorchance</td>\n",
       "      <td>-7.0</td>\n",
       "      <td>89.0</td>\n",
       "      <td>3</td>\n",
       "      <td>0</td>\n",
       "      <td>3</td>\n",
       "      <td>1</td>\n",
       "      <td>Saved</td>\n",
       "      <td>poorchance</td>\n",
       "      <td>Open Play</td>\n",
       "    </tr>\n",
       "    <tr>\n",
       "      <th>6713</th>\n",
       "      <td>verygoodchance</td>\n",
       "      <td>-5.0</td>\n",
       "      <td>32.0</td>\n",
       "      <td>2</td>\n",
       "      <td>4</td>\n",
       "      <td>1</td>\n",
       "      <td>0</td>\n",
       "      <td>Missed</td>\n",
       "      <td>verygoodchance</td>\n",
       "      <td>Open Play</td>\n",
       "    </tr>\n",
       "    <tr>\n",
       "      <th>6714</th>\n",
       "      <td>goodchance</td>\n",
       "      <td>-14.0</td>\n",
       "      <td>55.0</td>\n",
       "      <td>2</td>\n",
       "      <td>4</td>\n",
       "      <td>4</td>\n",
       "      <td>1</td>\n",
       "      <td>Missed</td>\n",
       "      <td>goodchance</td>\n",
       "      <td>Open Play</td>\n",
       "    </tr>\n",
       "    <tr>\n",
       "      <th>6715</th>\n",
       "      <td>fairlygoodchance</td>\n",
       "      <td>55.0</td>\n",
       "      <td>80.0</td>\n",
       "      <td>2</td>\n",
       "      <td>4</td>\n",
       "      <td>3</td>\n",
       "      <td>0</td>\n",
       "      <td>Missed</td>\n",
       "      <td>fairlygoodchance</td>\n",
       "      <td>Open Play</td>\n",
       "    </tr>\n",
       "    <tr>\n",
       "      <th>6716</th>\n",
       "      <td>fairlygoodchance</td>\n",
       "      <td>32.0</td>\n",
       "      <td>86.0</td>\n",
       "      <td>3</td>\n",
       "      <td>5</td>\n",
       "      <td>3</td>\n",
       "      <td>0</td>\n",
       "      <td>Saved</td>\n",
       "      <td>fairlygoodchance</td>\n",
       "      <td>Open Play</td>\n",
       "    </tr>\n",
       "    <tr>\n",
       "      <th>6717</th>\n",
       "      <td>verygoodchance</td>\n",
       "      <td>21.0</td>\n",
       "      <td>37.0</td>\n",
       "      <td>2</td>\n",
       "      <td>1</td>\n",
       "      <td>2</td>\n",
       "      <td>0</td>\n",
       "      <td>Defended</td>\n",
       "      <td>verygoodchance</td>\n",
       "      <td>Open Play</td>\n",
       "    </tr>\n",
       "    <tr>\n",
       "      <th>6718</th>\n",
       "      <td>poorchance</td>\n",
       "      <td>11.0</td>\n",
       "      <td>133.0</td>\n",
       "      <td>1</td>\n",
       "      <td>0</td>\n",
       "      <td>3</td>\n",
       "      <td>0</td>\n",
       "      <td>Defended</td>\n",
       "      <td>poorchance</td>\n",
       "      <td>Open Play</td>\n",
       "    </tr>\n",
       "    <tr>\n",
       "      <th>6719</th>\n",
       "      <td>fairlygoodchance</td>\n",
       "      <td>-27.0</td>\n",
       "      <td>50.0</td>\n",
       "      <td>1</td>\n",
       "      <td>5</td>\n",
       "      <td>3</td>\n",
       "      <td>0</td>\n",
       "      <td>Defended</td>\n",
       "      <td>fairlygoodchance</td>\n",
       "      <td>Open Play</td>\n",
       "    </tr>\n",
       "  </tbody>\n",
       "</table>\n",
       "<p>5850 rows × 10 columns</p>\n",
       "</div>"
      ],
      "text/plain": [
       "                  icon location_x location_y shotQuality defPressure  \\\n",
       "2           goodchance       37.0       50.0           2           3   \n",
       "3     fairlygoodchance       67.0       36.0           2           1   \n",
       "4          greatchance        2.0       38.0           0           3   \n",
       "5     fairlygoodchance       35.0       58.0           3           3   \n",
       "6       verygoodchance      -45.0       35.0           1           1   \n",
       "7           poorchance       63.0       51.0           2           4   \n",
       "8          greatchance      -11.0       18.0           2           3   \n",
       "9     fairlygoodchance      -34.0       56.0           2           1   \n",
       "10    fairlygoodchance      -31.0       73.0           2           1   \n",
       "11    fairlygoodchance       42.0       10.0           2           2   \n",
       "12          poorchance        8.0      107.0           3           1   \n",
       "13      verygoodchance       -9.0       24.0           0           1   \n",
       "14    fairlygoodchance        4.0       91.0           3           1   \n",
       "15          poorchance      -68.0       56.0           1           1   \n",
       "16          goodchance       45.0       42.0           2           2   \n",
       "17         greatchance      -18.0       13.0           3           4   \n",
       "18          poorchance        3.0       97.0           2           1   \n",
       "19          poorchance       31.0       92.0           2           1   \n",
       "20          poorchance      -27.0      107.0           2           1   \n",
       "29         greatchance      -41.0       58.0           3           4   \n",
       "30    fairlygoodchance      -48.0       56.0           2           5   \n",
       "31          goodchance      -16.0       59.0           3           3   \n",
       "32          goodchance       51.0       41.0           2           3   \n",
       "33         greatchance      -14.0       14.0           1           0   \n",
       "35    fairlygoodchance      -66.0       25.0           3           4   \n",
       "36    fairlygoodchance       68.0       44.0           2           2   \n",
       "37          poorchance      -54.0       87.0           2           3   \n",
       "38          goodchance       34.0       39.0           1           3   \n",
       "39          goodchance       49.0       44.0           3           3   \n",
       "40    fairlygoodchance       39.0       41.0           2           4   \n",
       "...                ...        ...        ...         ...         ...   \n",
       "6673        poorchance       17.0       78.0           2           3   \n",
       "6674        poorchance      -20.0       86.0           2           2   \n",
       "6675        poorchance      -56.0       85.0           2           2   \n",
       "6693  fairlygoodchance       32.0       15.0           3           4   \n",
       "6694        poorchance      -36.0      105.0           1           1   \n",
       "6695        goodchance      -10.0       37.0           3           4   \n",
       "6696        goodchance       38.0       32.0           3           4   \n",
       "6697        poorchance       -3.0      113.0           2           0   \n",
       "6698    verygoodchance       47.0       35.0           2           1   \n",
       "6699        poorchance      -47.0      115.0           1           0   \n",
       "6700  fairlygoodchance      -68.0       59.0           2           0   \n",
       "6701       greatchance      -44.0       29.0           3           3   \n",
       "6702  fairlygoodchance      -13.0       85.0           3           3   \n",
       "6703        goodchance       56.0       36.0           2           0   \n",
       "6704        poorchance       38.0       98.0           1           0   \n",
       "6705  fairlygoodchance       -6.0       84.0           3           0   \n",
       "6706        poorchance      -16.0      102.0           2           4   \n",
       "6707        poorchance       59.0       14.0           0           5   \n",
       "6708        poorchance      -21.0      103.0           1           0   \n",
       "6709        poorchance       13.0      109.0           1           3   \n",
       "6710        poorchance      -53.0       97.0           1           0   \n",
       "6711        goodchance       17.0       53.0           2           0   \n",
       "6712        poorchance       -7.0       89.0           3           0   \n",
       "6713    verygoodchance       -5.0       32.0           2           4   \n",
       "6714        goodchance      -14.0       55.0           2           4   \n",
       "6715  fairlygoodchance       55.0       80.0           2           4   \n",
       "6716  fairlygoodchance       32.0       86.0           3           5   \n",
       "6717    verygoodchance       21.0       37.0           2           1   \n",
       "6718        poorchance       11.0      133.0           1           0   \n",
       "6719  fairlygoodchance      -27.0       50.0           1           5   \n",
       "\n",
       "     numDefPlayers numAttPlayers   outcome      chanceRating              type  \n",
       "2                4             0    Missed        goodchance         Open Play  \n",
       "3                4             1    Missed  fairlygoodchance         Open Play  \n",
       "4                1             0  Defended       greatchance  Dangerous Moment  \n",
       "5                2             0     Saved  fairlygoodchance         Open Play  \n",
       "6                1             0    Missed    verygoodchance         Open Play  \n",
       "7                4             0  Defended        poorchance         Open Play  \n",
       "8                3             0    Missed       greatchance         Open Play  \n",
       "9                3             1  Defended  fairlygoodchance         Open Play  \n",
       "10               3             1  Defended  fairlygoodchance         Open Play  \n",
       "11               3             0    Missed  fairlygoodchance         Open Play  \n",
       "12               4             2     Saved        poorchance         Open Play  \n",
       "13               1             0    Missed    verygoodchance  Dangerous Moment  \n",
       "14               3             2     Saved  fairlygoodchance         Open Play  \n",
       "15               3             0    Missed        poorchance         Open Play  \n",
       "16               2             0    Missed        goodchance         Open Play  \n",
       "17               2             0     Saved       greatchance         Open Play  \n",
       "18               3             2    Missed        poorchance         Open Play  \n",
       "19               4             1  Defended        poorchance         Open Play  \n",
       "20               5             3    Missed        poorchance         Open Play  \n",
       "29               1             0     Saved       greatchance         Open Play  \n",
       "30               3             0    Missed  fairlygoodchance         Open Play  \n",
       "31               3             0     Saved        goodchance         Open Play  \n",
       "32               2             0    Missed        goodchance         Open Play  \n",
       "33               1             0    Missed       greatchance         Open Play  \n",
       "35               2             0  Defended  fairlygoodchance         Open Play  \n",
       "36               3             0    Missed  fairlygoodchance         Open Play  \n",
       "37               3             0    Missed        poorchance         Open Play  \n",
       "38               4             0    Missed        goodchance         Open Play  \n",
       "39               2             0     Saved        goodchance         Open Play  \n",
       "40               3             0    Missed  fairlygoodchance         Open Play  \n",
       "...            ...           ...       ...               ...               ...  \n",
       "6673             3             0    Missed        poorchance         Open Play  \n",
       "6674             2             0  Defended        poorchance         Open Play  \n",
       "6675             4             1     Saved        poorchance         Open Play  \n",
       "6693             5             1    Missed  fairlygoodchance         Open Play  \n",
       "6694             5             2    Missed        poorchance         Open Play  \n",
       "6695             2             0    Missed        goodchance         Open Play  \n",
       "6696             2             0     Saved        goodchance         Open Play  \n",
       "6697             3             0  Defended        poorchance         Open Play  \n",
       "6698             1             0    Missed    verygoodchance         Open Play  \n",
       "6699             4             2  Defended        poorchance         Open Play  \n",
       "6700             2             0  Defended  fairlygoodchance         Open Play  \n",
       "6701             1             0     Saved       greatchance         Open Play  \n",
       "6702             4             0     Saved  fairlygoodchance         Open Play  \n",
       "6703             2             0     Saved        goodchance         Open Play  \n",
       "6704             5             1    Missed        poorchance         Open Play  \n",
       "6705             2             1     Saved  fairlygoodchance         Open Play  \n",
       "6706             4             0    Missed        poorchance         Open Play  \n",
       "6707             3             0  Defended        poorchance  Dangerous Moment  \n",
       "6708             2             0    Missed        poorchance         Open Play  \n",
       "6709             4             1  Defended        poorchance         Open Play  \n",
       "6710             3             1    Missed        poorchance         Open Play  \n",
       "6711             3             1  Defended        goodchance         Open Play  \n",
       "6712             3             1     Saved        poorchance         Open Play  \n",
       "6713             1             0    Missed    verygoodchance         Open Play  \n",
       "6714             4             1    Missed        goodchance         Open Play  \n",
       "6715             3             0    Missed  fairlygoodchance         Open Play  \n",
       "6716             3             0     Saved  fairlygoodchance         Open Play  \n",
       "6717             2             0  Defended    verygoodchance         Open Play  \n",
       "6718             3             0  Defended        poorchance         Open Play  \n",
       "6719             3             0  Defended  fairlygoodchance         Open Play  \n",
       "\n",
       "[5850 rows x 10 columns]"
      ]
     },
     "execution_count": 33,
     "metadata": {},
     "output_type": "execute_result"
    }
   ],
   "source": [
    "df[df.outcome != '-']\n",
    "test[test.outcome != '-']"
   ]
  },
  {
   "cell_type": "code",
   "execution_count": 34,
   "metadata": {},
   "outputs": [
    {
     "data": {
      "text/plain": [
       "Open Play                    68992\n",
       "Open play                     5723\n",
       "Direct Free-Kick              3842\n",
       "Dangerous Moment              2906\n",
       "Penalty                        885\n",
       "Penalty Earned                 240\n",
       "Direct free kick               176\n",
       "-                               51\n",
       "Direct Corner                   29\n",
       "Open Play Pass                   4\n",
       "Cross High                       3\n",
       "Cross Low                        3\n",
       "Turnover                         2\n",
       "Shot (Deflection)                2\n",
       "Shot (Opposition Rebound)        2\n",
       "Direct corner                    2\n",
       "Corner                           1\n",
       "Free Kick Won                    1\n",
       "Name: type, dtype: int64"
      ]
     },
     "execution_count": 34,
     "metadata": {},
     "output_type": "execute_result"
    }
   ],
   "source": [
    "df.type.value_counts()"
   ]
  },
  {
   "cell_type": "code",
   "execution_count": 35,
   "metadata": {},
   "outputs": [],
   "source": [
    "df = df[df.type != '-']\n",
    "test = test[test.type != '-']"
   ]
  },
  {
   "cell_type": "code",
   "execution_count": 36,
   "metadata": {},
   "outputs": [
    {
     "data": {
      "text/plain": [
       "poorchance          27093\n",
       "fairlygoodchance    18961\n",
       "goodchance          13031\n",
       "goal                10314\n",
       "verygoodchance       7992\n",
       "greatchance          5017\n",
       "penmissed             262\n",
       "superbchance          143\n",
       "Name: icon, dtype: int64"
      ]
     },
     "execution_count": 36,
     "metadata": {},
     "output_type": "execute_result"
    }
   ],
   "source": [
    "df.icon.value_counts()"
   ]
  },
  {
   "cell_type": "code",
   "execution_count": 37,
   "metadata": {},
   "outputs": [
    {
     "data": {
      "text/plain": [
       "poorchance          27093\n",
       "fairlygoodchance    18961\n",
       "goodchance          13031\n",
       "verygoodchance       7992\n",
       "greatchance          5017\n",
       "Great                3768\n",
       "Very Good            1961\n",
       "Good                 1064\n",
       "Fairly Good           948\n",
       "Superb                892\n",
       "Penalty               886\n",
       "Poor                  795\n",
       "-                     262\n",
       "superbchance          143\n",
       "Name: chanceRating, dtype: int64"
      ]
     },
     "execution_count": 37,
     "metadata": {},
     "output_type": "execute_result"
    }
   ],
   "source": [
    "df.chanceRating.value_counts()"
   ]
  },
  {
   "cell_type": "code",
   "execution_count": 38,
   "metadata": {},
   "outputs": [
    {
     "data": {
      "text/html": [
       "<div>\n",
       "<style scoped>\n",
       "    .dataframe tbody tr th:only-of-type {\n",
       "        vertical-align: middle;\n",
       "    }\n",
       "\n",
       "    .dataframe tbody tr th {\n",
       "        vertical-align: top;\n",
       "    }\n",
       "\n",
       "    .dataframe thead th {\n",
       "        text-align: right;\n",
       "    }\n",
       "</style>\n",
       "<table border=\"1\" class=\"dataframe\">\n",
       "  <thead>\n",
       "    <tr style=\"text-align: right;\">\n",
       "      <th></th>\n",
       "      <th>icon</th>\n",
       "      <th>location_x</th>\n",
       "      <th>location_y</th>\n",
       "      <th>shotQuality</th>\n",
       "      <th>defPressure</th>\n",
       "      <th>numDefPlayers</th>\n",
       "      <th>numAttPlayers</th>\n",
       "      <th>outcome</th>\n",
       "      <th>chanceRating</th>\n",
       "      <th>type</th>\n",
       "    </tr>\n",
       "  </thead>\n",
       "  <tbody>\n",
       "    <tr>\n",
       "      <th>128</th>\n",
       "      <td>penmissed</td>\n",
       "      <td>-</td>\n",
       "      <td>-</td>\n",
       "      <td>3</td>\n",
       "      <td>-</td>\n",
       "      <td>-</td>\n",
       "      <td>-</td>\n",
       "      <td>Save</td>\n",
       "      <td>-</td>\n",
       "      <td>Penalty Earned</td>\n",
       "    </tr>\n",
       "    <tr>\n",
       "      <th>538</th>\n",
       "      <td>penmissed</td>\n",
       "      <td>-</td>\n",
       "      <td>-</td>\n",
       "      <td>2</td>\n",
       "      <td>-</td>\n",
       "      <td>-</td>\n",
       "      <td>-</td>\n",
       "      <td>Save</td>\n",
       "      <td>-</td>\n",
       "      <td>Penalty Earned</td>\n",
       "    </tr>\n",
       "    <tr>\n",
       "      <th>539</th>\n",
       "      <td>penmissed</td>\n",
       "      <td>-</td>\n",
       "      <td>-</td>\n",
       "      <td>3</td>\n",
       "      <td>-</td>\n",
       "      <td>-</td>\n",
       "      <td>-</td>\n",
       "      <td>Save</td>\n",
       "      <td>-</td>\n",
       "      <td>Penalty Earned</td>\n",
       "    </tr>\n",
       "    <tr>\n",
       "      <th>966</th>\n",
       "      <td>penmissed</td>\n",
       "      <td>-</td>\n",
       "      <td>-</td>\n",
       "      <td>3</td>\n",
       "      <td>-</td>\n",
       "      <td>-</td>\n",
       "      <td>-</td>\n",
       "      <td>Save</td>\n",
       "      <td>-</td>\n",
       "      <td>Penalty Earned</td>\n",
       "    </tr>\n",
       "    <tr>\n",
       "      <th>1271</th>\n",
       "      <td>penmissed</td>\n",
       "      <td>-</td>\n",
       "      <td>-</td>\n",
       "      <td>3</td>\n",
       "      <td>-</td>\n",
       "      <td>-</td>\n",
       "      <td>-</td>\n",
       "      <td>Miss</td>\n",
       "      <td>-</td>\n",
       "      <td>Penalty Earned</td>\n",
       "    </tr>\n",
       "  </tbody>\n",
       "</table>\n",
       "</div>"
      ],
      "text/plain": [
       "           icon location_x location_y shotQuality defPressure numDefPlayers  \\\n",
       "128   penmissed          -          -           3           -             -   \n",
       "538   penmissed          -          -           2           -             -   \n",
       "539   penmissed          -          -           3           -             -   \n",
       "966   penmissed          -          -           3           -             -   \n",
       "1271  penmissed          -          -           3           -             -   \n",
       "\n",
       "     numAttPlayers outcome chanceRating            type  \n",
       "128              -    Save            -  Penalty Earned  \n",
       "538              -    Save            -  Penalty Earned  \n",
       "539              -    Save            -  Penalty Earned  \n",
       "966              -    Save            -  Penalty Earned  \n",
       "1271             -    Miss            -  Penalty Earned  "
      ]
     },
     "execution_count": 38,
     "metadata": {},
     "output_type": "execute_result"
    }
   ],
   "source": [
    "df[df.chanceRating == '-'].head()"
   ]
  },
  {
   "cell_type": "code",
   "execution_count": 39,
   "metadata": {},
   "outputs": [
    {
     "data": {
      "text/plain": [
       "0    60377\n",
       "1    16031\n",
       "2     4505\n",
       "3     1287\n",
       "4      278\n",
       "-      262\n",
       "5       54\n",
       "6       12\n",
       "7        7\n",
       "Name: numAttPlayers, dtype: int64"
      ]
     },
     "execution_count": 39,
     "metadata": {},
     "output_type": "execute_result"
    }
   ],
   "source": [
    "df.numAttPlayers.value_counts()"
   ]
  },
  {
   "cell_type": "code",
   "execution_count": 40,
   "metadata": {},
   "outputs": [
    {
     "data": {
      "text/plain": [
       "(82813, 10)"
      ]
     },
     "execution_count": 40,
     "metadata": {},
     "output_type": "execute_result"
    }
   ],
   "source": [
    "df.shape"
   ]
  },
  {
   "cell_type": "code",
   "execution_count": null,
   "metadata": {},
   "outputs": [],
   "source": []
  },
  {
   "cell_type": "code",
   "execution_count": 41,
   "metadata": {},
   "outputs": [],
   "source": [
    "#####################################################################################################\n",
    "# STEP 4: Vectorize Data\n",
    "\n",
    "# Encode data to particular values to eventually understand their importance\n"
   ]
  },
  {
   "cell_type": "code",
   "execution_count": null,
   "metadata": {},
   "outputs": [],
   "source": []
  },
  {
   "cell_type": "code",
   "execution_count": 42,
   "metadata": {},
   "outputs": [
    {
     "data": {
      "text/html": [
       "<div>\n",
       "<style scoped>\n",
       "    .dataframe tbody tr th:only-of-type {\n",
       "        vertical-align: middle;\n",
       "    }\n",
       "\n",
       "    .dataframe tbody tr th {\n",
       "        vertical-align: top;\n",
       "    }\n",
       "\n",
       "    .dataframe thead th {\n",
       "        text-align: right;\n",
       "    }\n",
       "</style>\n",
       "<table border=\"1\" class=\"dataframe\">\n",
       "  <thead>\n",
       "    <tr style=\"text-align: right;\">\n",
       "      <th></th>\n",
       "      <th>icon</th>\n",
       "      <th>location_x</th>\n",
       "      <th>location_y</th>\n",
       "      <th>shotQuality</th>\n",
       "      <th>defPressure</th>\n",
       "      <th>numDefPlayers</th>\n",
       "      <th>numAttPlayers</th>\n",
       "      <th>outcome</th>\n",
       "      <th>chanceRating</th>\n",
       "      <th>type</th>\n",
       "    </tr>\n",
       "  </thead>\n",
       "  <tbody>\n",
       "    <tr>\n",
       "      <th>0</th>\n",
       "      <td>goal</td>\n",
       "      <td>0.0</td>\n",
       "      <td>44.0</td>\n",
       "      <td>3</td>\n",
       "      <td>0</td>\n",
       "      <td>1</td>\n",
       "      <td>0</td>\n",
       "      <td>-</td>\n",
       "      <td>Penalty</td>\n",
       "      <td>Penalty</td>\n",
       "    </tr>\n",
       "    <tr>\n",
       "      <th>1</th>\n",
       "      <td>goal</td>\n",
       "      <td>0.0</td>\n",
       "      <td>44.0</td>\n",
       "      <td>3</td>\n",
       "      <td>0</td>\n",
       "      <td>1</td>\n",
       "      <td>0</td>\n",
       "      <td>-</td>\n",
       "      <td>Penalty</td>\n",
       "      <td>Penalty</td>\n",
       "    </tr>\n",
       "    <tr>\n",
       "      <th>2</th>\n",
       "      <td>goal</td>\n",
       "      <td>0.0</td>\n",
       "      <td>44.0</td>\n",
       "      <td>4</td>\n",
       "      <td>0</td>\n",
       "      <td>1</td>\n",
       "      <td>0</td>\n",
       "      <td>-</td>\n",
       "      <td>Penalty</td>\n",
       "      <td>Penalty</td>\n",
       "    </tr>\n",
       "    <tr>\n",
       "      <th>3</th>\n",
       "      <td>goal</td>\n",
       "      <td>0.0</td>\n",
       "      <td>44.0</td>\n",
       "      <td>3</td>\n",
       "      <td>0</td>\n",
       "      <td>1</td>\n",
       "      <td>0</td>\n",
       "      <td>-</td>\n",
       "      <td>Penalty</td>\n",
       "      <td>Penalty</td>\n",
       "    </tr>\n",
       "    <tr>\n",
       "      <th>4</th>\n",
       "      <td>goal</td>\n",
       "      <td>0.0</td>\n",
       "      <td>44.0</td>\n",
       "      <td>3</td>\n",
       "      <td>0</td>\n",
       "      <td>1</td>\n",
       "      <td>0</td>\n",
       "      <td>-</td>\n",
       "      <td>Penalty</td>\n",
       "      <td>Penalty</td>\n",
       "    </tr>\n",
       "  </tbody>\n",
       "</table>\n",
       "</div>"
      ],
      "text/plain": [
       "   icon location_x location_y shotQuality defPressure numDefPlayers  \\\n",
       "0  goal        0.0       44.0           3           0             1   \n",
       "1  goal        0.0       44.0           3           0             1   \n",
       "2  goal        0.0       44.0           4           0             1   \n",
       "3  goal        0.0       44.0           3           0             1   \n",
       "4  goal        0.0       44.0           3           0             1   \n",
       "\n",
       "  numAttPlayers outcome chanceRating     type  \n",
       "0             0       -      Penalty  Penalty  \n",
       "1             0       -      Penalty  Penalty  \n",
       "2             0       -      Penalty  Penalty  \n",
       "3             0       -      Penalty  Penalty  \n",
       "4             0       -      Penalty  Penalty  "
      ]
     },
     "execution_count": 42,
     "metadata": {},
     "output_type": "execute_result"
    }
   ],
   "source": [
    "df.head()"
   ]
  },
  {
   "cell_type": "code",
   "execution_count": 43,
   "metadata": {},
   "outputs": [
    {
     "data": {
      "text/plain": [
       "Index(['icon', 'location_x', 'location_y', 'shotQuality', 'defPressure',\n",
       "       'numDefPlayers', 'numAttPlayers', 'outcome', 'chanceRating', 'type'],\n",
       "      dtype='object')"
      ]
     },
     "execution_count": 43,
     "metadata": {},
     "output_type": "execute_result"
    }
   ],
   "source": [
    "df.columns"
   ]
  },
  {
   "cell_type": "code",
   "execution_count": 44,
   "metadata": {},
   "outputs": [
    {
     "data": {
      "text/plain": [
       "2    18241\n",
       "1    18029\n",
       "3    17853\n",
       "0    14859\n",
       "4    10447\n",
       "5     3122\n",
       "-      262\n",
       "Name: defPressure, dtype: int64"
      ]
     },
     "execution_count": 44,
     "metadata": {},
     "output_type": "execute_result"
    }
   ],
   "source": [
    "df.defPressure.value_counts()"
   ]
  },
  {
   "cell_type": "code",
   "execution_count": 45,
   "metadata": {},
   "outputs": [
    {
     "data": {
      "text/html": [
       "<div>\n",
       "<style scoped>\n",
       "    .dataframe tbody tr th:only-of-type {\n",
       "        vertical-align: middle;\n",
       "    }\n",
       "\n",
       "    .dataframe tbody tr th {\n",
       "        vertical-align: top;\n",
       "    }\n",
       "\n",
       "    .dataframe thead th {\n",
       "        text-align: right;\n",
       "    }\n",
       "</style>\n",
       "<table border=\"1\" class=\"dataframe\">\n",
       "  <thead>\n",
       "    <tr style=\"text-align: right;\">\n",
       "      <th></th>\n",
       "      <th>icon</th>\n",
       "      <th>location_x</th>\n",
       "      <th>location_y</th>\n",
       "      <th>shotQuality</th>\n",
       "      <th>defPressure</th>\n",
       "      <th>numDefPlayers</th>\n",
       "      <th>numAttPlayers</th>\n",
       "      <th>outcome</th>\n",
       "      <th>chanceRating</th>\n",
       "      <th>type</th>\n",
       "    </tr>\n",
       "  </thead>\n",
       "  <tbody>\n",
       "    <tr>\n",
       "      <th>0</th>\n",
       "      <td>goal</td>\n",
       "      <td>0.0</td>\n",
       "      <td>44.0</td>\n",
       "      <td>3</td>\n",
       "      <td>0</td>\n",
       "      <td>1</td>\n",
       "      <td>0</td>\n",
       "      <td>-</td>\n",
       "      <td>Penalty</td>\n",
       "      <td>Penalty</td>\n",
       "    </tr>\n",
       "    <tr>\n",
       "      <th>1</th>\n",
       "      <td>goal</td>\n",
       "      <td>0.0</td>\n",
       "      <td>44.0</td>\n",
       "      <td>3</td>\n",
       "      <td>0</td>\n",
       "      <td>1</td>\n",
       "      <td>0</td>\n",
       "      <td>-</td>\n",
       "      <td>Penalty</td>\n",
       "      <td>Penalty</td>\n",
       "    </tr>\n",
       "    <tr>\n",
       "      <th>2</th>\n",
       "      <td>goal</td>\n",
       "      <td>0.0</td>\n",
       "      <td>44.0</td>\n",
       "      <td>4</td>\n",
       "      <td>0</td>\n",
       "      <td>1</td>\n",
       "      <td>0</td>\n",
       "      <td>-</td>\n",
       "      <td>Penalty</td>\n",
       "      <td>Penalty</td>\n",
       "    </tr>\n",
       "    <tr>\n",
       "      <th>3</th>\n",
       "      <td>goal</td>\n",
       "      <td>0.0</td>\n",
       "      <td>44.0</td>\n",
       "      <td>3</td>\n",
       "      <td>0</td>\n",
       "      <td>1</td>\n",
       "      <td>0</td>\n",
       "      <td>-</td>\n",
       "      <td>Penalty</td>\n",
       "      <td>Penalty</td>\n",
       "    </tr>\n",
       "    <tr>\n",
       "      <th>4</th>\n",
       "      <td>goal</td>\n",
       "      <td>0.0</td>\n",
       "      <td>44.0</td>\n",
       "      <td>3</td>\n",
       "      <td>0</td>\n",
       "      <td>1</td>\n",
       "      <td>0</td>\n",
       "      <td>-</td>\n",
       "      <td>Penalty</td>\n",
       "      <td>Penalty</td>\n",
       "    </tr>\n",
       "    <tr>\n",
       "      <th>5</th>\n",
       "      <td>goal</td>\n",
       "      <td>0.0</td>\n",
       "      <td>44.0</td>\n",
       "      <td>3</td>\n",
       "      <td>0</td>\n",
       "      <td>1</td>\n",
       "      <td>0</td>\n",
       "      <td>-</td>\n",
       "      <td>Penalty</td>\n",
       "      <td>Penalty</td>\n",
       "    </tr>\n",
       "    <tr>\n",
       "      <th>6</th>\n",
       "      <td>goal</td>\n",
       "      <td>0.0</td>\n",
       "      <td>44.0</td>\n",
       "      <td>3</td>\n",
       "      <td>0</td>\n",
       "      <td>1</td>\n",
       "      <td>0</td>\n",
       "      <td>-</td>\n",
       "      <td>Penalty</td>\n",
       "      <td>Penalty</td>\n",
       "    </tr>\n",
       "    <tr>\n",
       "      <th>7</th>\n",
       "      <td>poorchance</td>\n",
       "      <td>54.0</td>\n",
       "      <td>44.0</td>\n",
       "      <td>2</td>\n",
       "      <td>5</td>\n",
       "      <td>3</td>\n",
       "      <td>0</td>\n",
       "      <td>Defended</td>\n",
       "      <td>poorchance</td>\n",
       "      <td>Open Play</td>\n",
       "    </tr>\n",
       "    <tr>\n",
       "      <th>8</th>\n",
       "      <td>poorchance</td>\n",
       "      <td>14.0</td>\n",
       "      <td>50.0</td>\n",
       "      <td>0</td>\n",
       "      <td>5</td>\n",
       "      <td>1</td>\n",
       "      <td>0</td>\n",
       "      <td>Defended</td>\n",
       "      <td>poorchance</td>\n",
       "      <td>Dangerous Moment</td>\n",
       "    </tr>\n",
       "    <tr>\n",
       "      <th>9</th>\n",
       "      <td>fairlygoodchance</td>\n",
       "      <td>28.0</td>\n",
       "      <td>11.0</td>\n",
       "      <td>0</td>\n",
       "      <td>3</td>\n",
       "      <td>1</td>\n",
       "      <td>0</td>\n",
       "      <td>Defended</td>\n",
       "      <td>fairlygoodchance</td>\n",
       "      <td>Dangerous Moment</td>\n",
       "    </tr>\n",
       "    <tr>\n",
       "      <th>10</th>\n",
       "      <td>verygoodchance</td>\n",
       "      <td>7.0</td>\n",
       "      <td>51.0</td>\n",
       "      <td>2</td>\n",
       "      <td>5</td>\n",
       "      <td>2</td>\n",
       "      <td>0</td>\n",
       "      <td>Missed</td>\n",
       "      <td>verygoodchance</td>\n",
       "      <td>Open Play</td>\n",
       "    </tr>\n",
       "    <tr>\n",
       "      <th>11</th>\n",
       "      <td>fairlygoodchance</td>\n",
       "      <td>-6.0</td>\n",
       "      <td>75.0</td>\n",
       "      <td>3</td>\n",
       "      <td>4</td>\n",
       "      <td>2</td>\n",
       "      <td>0</td>\n",
       "      <td>Missed</td>\n",
       "      <td>fairlygoodchance</td>\n",
       "      <td>Open Play</td>\n",
       "    </tr>\n",
       "    <tr>\n",
       "      <th>12</th>\n",
       "      <td>goodchance</td>\n",
       "      <td>-22.0</td>\n",
       "      <td>38.0</td>\n",
       "      <td>0</td>\n",
       "      <td>3</td>\n",
       "      <td>1</td>\n",
       "      <td>0</td>\n",
       "      <td>Defended</td>\n",
       "      <td>goodchance</td>\n",
       "      <td>Dangerous Moment</td>\n",
       "    </tr>\n",
       "    <tr>\n",
       "      <th>13</th>\n",
       "      <td>fairlygoodchance</td>\n",
       "      <td>66.0</td>\n",
       "      <td>45.0</td>\n",
       "      <td>2</td>\n",
       "      <td>5</td>\n",
       "      <td>2</td>\n",
       "      <td>0</td>\n",
       "      <td>Missed</td>\n",
       "      <td>fairlygoodchance</td>\n",
       "      <td>Open Play</td>\n",
       "    </tr>\n",
       "    <tr>\n",
       "      <th>14</th>\n",
       "      <td>greatchance</td>\n",
       "      <td>-6.0</td>\n",
       "      <td>21.0</td>\n",
       "      <td>2</td>\n",
       "      <td>2</td>\n",
       "      <td>2</td>\n",
       "      <td>0</td>\n",
       "      <td>Missed</td>\n",
       "      <td>greatchance</td>\n",
       "      <td>Open Play</td>\n",
       "    </tr>\n",
       "    <tr>\n",
       "      <th>15</th>\n",
       "      <td>superbchance</td>\n",
       "      <td>17.0</td>\n",
       "      <td>13.0</td>\n",
       "      <td>3</td>\n",
       "      <td>0</td>\n",
       "      <td>0</td>\n",
       "      <td>0</td>\n",
       "      <td>Missed</td>\n",
       "      <td>superbchance</td>\n",
       "      <td>Open Play</td>\n",
       "    </tr>\n",
       "    <tr>\n",
       "      <th>16</th>\n",
       "      <td>poorchance</td>\n",
       "      <td>3.0</td>\n",
       "      <td>98.0</td>\n",
       "      <td>3</td>\n",
       "      <td>5</td>\n",
       "      <td>2</td>\n",
       "      <td>0</td>\n",
       "      <td>Missed</td>\n",
       "      <td>poorchance</td>\n",
       "      <td>Open Play</td>\n",
       "    </tr>\n",
       "    <tr>\n",
       "      <th>17</th>\n",
       "      <td>poorchance</td>\n",
       "      <td>6.0</td>\n",
       "      <td>108.0</td>\n",
       "      <td>3</td>\n",
       "      <td>0</td>\n",
       "      <td>4</td>\n",
       "      <td>1</td>\n",
       "      <td>Missed</td>\n",
       "      <td>poorchance</td>\n",
       "      <td>Direct Free-Kick</td>\n",
       "    </tr>\n",
       "    <tr>\n",
       "      <th>18</th>\n",
       "      <td>poorchance</td>\n",
       "      <td>63.0</td>\n",
       "      <td>92.0</td>\n",
       "      <td>1</td>\n",
       "      <td>3</td>\n",
       "      <td>3</td>\n",
       "      <td>0</td>\n",
       "      <td>Missed</td>\n",
       "      <td>poorchance</td>\n",
       "      <td>Open Play</td>\n",
       "    </tr>\n",
       "    <tr>\n",
       "      <th>19</th>\n",
       "      <td>poorchance</td>\n",
       "      <td>-7.0</td>\n",
       "      <td>89.0</td>\n",
       "      <td>3</td>\n",
       "      <td>5</td>\n",
       "      <td>3</td>\n",
       "      <td>0</td>\n",
       "      <td>Defended</td>\n",
       "      <td>poorchance</td>\n",
       "      <td>Open Play</td>\n",
       "    </tr>\n",
       "  </tbody>\n",
       "</table>\n",
       "</div>"
      ],
      "text/plain": [
       "                icon location_x location_y shotQuality defPressure  \\\n",
       "0               goal        0.0       44.0           3           0   \n",
       "1               goal        0.0       44.0           3           0   \n",
       "2               goal        0.0       44.0           4           0   \n",
       "3               goal        0.0       44.0           3           0   \n",
       "4               goal        0.0       44.0           3           0   \n",
       "5               goal        0.0       44.0           3           0   \n",
       "6               goal        0.0       44.0           3           0   \n",
       "7         poorchance       54.0       44.0           2           5   \n",
       "8         poorchance       14.0       50.0           0           5   \n",
       "9   fairlygoodchance       28.0       11.0           0           3   \n",
       "10    verygoodchance        7.0       51.0           2           5   \n",
       "11  fairlygoodchance       -6.0       75.0           3           4   \n",
       "12        goodchance      -22.0       38.0           0           3   \n",
       "13  fairlygoodchance       66.0       45.0           2           5   \n",
       "14       greatchance       -6.0       21.0           2           2   \n",
       "15      superbchance       17.0       13.0           3           0   \n",
       "16        poorchance        3.0       98.0           3           5   \n",
       "17        poorchance        6.0      108.0           3           0   \n",
       "18        poorchance       63.0       92.0           1           3   \n",
       "19        poorchance       -7.0       89.0           3           5   \n",
       "\n",
       "   numDefPlayers numAttPlayers   outcome      chanceRating              type  \n",
       "0              1             0         -           Penalty           Penalty  \n",
       "1              1             0         -           Penalty           Penalty  \n",
       "2              1             0         -           Penalty           Penalty  \n",
       "3              1             0         -           Penalty           Penalty  \n",
       "4              1             0         -           Penalty           Penalty  \n",
       "5              1             0         -           Penalty           Penalty  \n",
       "6              1             0         -           Penalty           Penalty  \n",
       "7              3             0  Defended        poorchance         Open Play  \n",
       "8              1             0  Defended        poorchance  Dangerous Moment  \n",
       "9              1             0  Defended  fairlygoodchance  Dangerous Moment  \n",
       "10             2             0    Missed    verygoodchance         Open Play  \n",
       "11             2             0    Missed  fairlygoodchance         Open Play  \n",
       "12             1             0  Defended        goodchance  Dangerous Moment  \n",
       "13             2             0    Missed  fairlygoodchance         Open Play  \n",
       "14             2             0    Missed       greatchance         Open Play  \n",
       "15             0             0    Missed      superbchance         Open Play  \n",
       "16             2             0    Missed        poorchance         Open Play  \n",
       "17             4             1    Missed        poorchance  Direct Free-Kick  \n",
       "18             3             0    Missed        poorchance         Open Play  \n",
       "19             3             0  Defended        poorchance         Open Play  "
      ]
     },
     "execution_count": 45,
     "metadata": {},
     "output_type": "execute_result"
    }
   ],
   "source": [
    "df.head(20)"
   ]
  },
  {
   "cell_type": "code",
   "execution_count": 46,
   "metadata": {},
   "outputs": [
    {
     "data": {
      "text/plain": [
       "array(['Penalty', 'poorchance', 'fairlygoodchance', 'verygoodchance',\n",
       "       'goodchance', 'greatchance', 'superbchance', 'Good', 'Great',\n",
       "       'Fairly Good', '-', 'Poor', 'Superb', 'Very Good'], dtype=object)"
      ]
     },
     "execution_count": 46,
     "metadata": {},
     "output_type": "execute_result"
    }
   ],
   "source": [
    "df.chanceRating.unique()"
   ]
  },
  {
   "cell_type": "code",
   "execution_count": 47,
   "metadata": {},
   "outputs": [
    {
     "data": {
      "text/plain": [
       "Index(['icon', 'location_x', 'location_y', 'shotQuality', 'defPressure',\n",
       "       'numDefPlayers', 'numAttPlayers', 'outcome', 'chanceRating', 'type'],\n",
       "      dtype='object')"
      ]
     },
     "execution_count": 47,
     "metadata": {},
     "output_type": "execute_result"
    }
   ],
   "source": [
    "df.columns"
   ]
  },
  {
   "cell_type": "code",
   "execution_count": 48,
   "metadata": {},
   "outputs": [
    {
     "data": {
      "text/plain": [
       "array(['goal', 'poorchance', 'fairlygoodchance', 'verygoodchance',\n",
       "       'goodchance', 'greatchance', 'superbchance', 'penmissed'],\n",
       "      dtype=object)"
      ]
     },
     "execution_count": 48,
     "metadata": {},
     "output_type": "execute_result"
    }
   ],
   "source": [
    "df.icon.unique()"
   ]
  },
  {
   "cell_type": "code",
   "execution_count": 49,
   "metadata": {},
   "outputs": [],
   "source": [
    "cleanup_icon = {\"icon\": {\"goal\": 1, \"superbchance\": 0.83, \"greatchance\": 0.43, \"verygoodchance\": 0.22, \"goodchance\": 0.08, \"fairlygoodchance\": 0.05,  \"poorchance\": 0.02,  \"penmissed\": 0}}"
   ]
  },
  {
   "cell_type": "code",
   "execution_count": 50,
   "metadata": {},
   "outputs": [],
   "source": [
    "df.replace(cleanup_icon, inplace=True)\n",
    "test.replace(cleanup_icon, inplace=True)"
   ]
  },
  {
   "cell_type": "code",
   "execution_count": 51,
   "metadata": {},
   "outputs": [
    {
     "data": {
      "text/plain": [
       "array([1.  , 0.02, 0.05, 0.22, 0.08, 0.43, 0.83, 0.  ])"
      ]
     },
     "execution_count": 51,
     "metadata": {},
     "output_type": "execute_result"
    }
   ],
   "source": [
    "df.icon.unique()"
   ]
  },
  {
   "cell_type": "code",
   "execution_count": 52,
   "metadata": {},
   "outputs": [
    {
     "data": {
      "text/plain": [
       "0     1.00\n",
       "1     1.00\n",
       "2     1.00\n",
       "3     1.00\n",
       "4     1.00\n",
       "5     1.00\n",
       "6     1.00\n",
       "7     0.02\n",
       "8     0.02\n",
       "9     0.05\n",
       "10    0.22\n",
       "11    0.05\n",
       "12    0.08\n",
       "13    0.05\n",
       "14    0.43\n",
       "15    0.83\n",
       "16    0.02\n",
       "17    0.02\n",
       "18    0.02\n",
       "19    0.02\n",
       "Name: icon, dtype: float64"
      ]
     },
     "execution_count": 52,
     "metadata": {},
     "output_type": "execute_result"
    }
   ],
   "source": [
    "df.icon.head(20)"
   ]
  },
  {
   "cell_type": "code",
   "execution_count": 53,
   "metadata": {},
   "outputs": [
    {
     "data": {
      "text/plain": [
       "2    27231\n",
       "1    25932\n",
       "3    22175\n",
       "4     3621\n",
       "0     3350\n",
       "5      504\n",
       "Name: shotQuality, dtype: int64"
      ]
     },
     "execution_count": 53,
     "metadata": {},
     "output_type": "execute_result"
    }
   ],
   "source": [
    "df.shotQuality.value_counts()"
   ]
  },
  {
   "cell_type": "code",
   "execution_count": 54,
   "metadata": {},
   "outputs": [
    {
     "data": {
      "text/plain": [
       "2    18241\n",
       "1    18029\n",
       "3    17853\n",
       "0    14859\n",
       "4    10447\n",
       "5     3122\n",
       "-      262\n",
       "Name: defPressure, dtype: int64"
      ]
     },
     "execution_count": 54,
     "metadata": {},
     "output_type": "execute_result"
    }
   ],
   "source": [
    "df.defPressure.value_counts()"
   ]
  },
  {
   "cell_type": "code",
   "execution_count": 55,
   "metadata": {},
   "outputs": [
    {
     "data": {
      "text/plain": [
       "2     28542\n",
       "3     20655\n",
       "1     15294\n",
       "4      9206\n",
       "5      4164\n",
       "6      2171\n",
       "7      1072\n",
       "0       906\n",
       "8       402\n",
       "-       262\n",
       "9       108\n",
       "10       26\n",
       "11        5\n",
       "Name: numDefPlayers, dtype: int64"
      ]
     },
     "execution_count": 55,
     "metadata": {},
     "output_type": "execute_result"
    }
   ],
   "source": [
    "df.numDefPlayers.value_counts()"
   ]
  },
  {
   "cell_type": "code",
   "execution_count": 56,
   "metadata": {},
   "outputs": [
    {
     "data": {
      "text/plain": [
       "array(['0', '1', '2', '3', '-', '4', '5', '6', '7'], dtype=object)"
      ]
     },
     "execution_count": 56,
     "metadata": {},
     "output_type": "execute_result"
    }
   ],
   "source": [
    "df.numAttPlayers.unique()"
   ]
  },
  {
   "cell_type": "code",
   "execution_count": 57,
   "metadata": {},
   "outputs": [
    {
     "data": {
      "text/plain": [
       "array(['-', 'Defended', 'Missed', 'Saved', 'Woodwork', 'Save', 'Miss'],\n",
       "      dtype=object)"
      ]
     },
     "execution_count": 57,
     "metadata": {},
     "output_type": "execute_result"
    }
   ],
   "source": [
    "df.outcome.unique()"
   ]
  },
  {
   "cell_type": "code",
   "execution_count": 58,
   "metadata": {},
   "outputs": [
    {
     "data": {
      "text/plain": [
       "Missed      32839\n",
       "Saved       21767\n",
       "Defended    15870\n",
       "-           10314\n",
       "Woodwork     1791\n",
       "Save          195\n",
       "Miss           37\n",
       "Name: outcome, dtype: int64"
      ]
     },
     "execution_count": 58,
     "metadata": {},
     "output_type": "execute_result"
    }
   ],
   "source": [
    "df.outcome.value_counts()"
   ]
  },
  {
   "cell_type": "code",
   "execution_count": 59,
   "metadata": {},
   "outputs": [
    {
     "data": {
      "text/plain": [
       "(82813, 10)"
      ]
     },
     "execution_count": 59,
     "metadata": {},
     "output_type": "execute_result"
    }
   ],
   "source": [
    "df.shape"
   ]
  },
  {
   "cell_type": "code",
   "execution_count": 60,
   "metadata": {},
   "outputs": [],
   "source": [
    "df = df[['icon', \"shotQuality\",\"defPressure\",\"numDefPlayers\",\"numAttPlayers\",\"outcome\", 'chanceRating', 'type']] \n",
    "test = test[['icon', \"shotQuality\",\"defPressure\",\"numDefPlayers\",\"numAttPlayers\",\"outcome\", 'chanceRating', 'type']]"
   ]
  },
  {
   "cell_type": "code",
   "execution_count": 61,
   "metadata": {},
   "outputs": [
    {
     "data": {
      "text/plain": [
       "(82813, 8)"
      ]
     },
     "execution_count": 61,
     "metadata": {},
     "output_type": "execute_result"
    }
   ],
   "source": [
    "df.shape"
   ]
  },
  {
   "cell_type": "code",
   "execution_count": 62,
   "metadata": {},
   "outputs": [
    {
     "data": {
      "text/plain": [
       "Missed      32839\n",
       "Saved       21767\n",
       "Defended    15870\n",
       "-           10314\n",
       "Woodwork     1791\n",
       "Save          195\n",
       "Miss           37\n",
       "Name: outcome, dtype: int64"
      ]
     },
     "execution_count": 62,
     "metadata": {},
     "output_type": "execute_result"
    }
   ],
   "source": [
    "df.outcome.value_counts()"
   ]
  },
  {
   "cell_type": "code",
   "execution_count": 63,
   "metadata": {},
   "outputs": [],
   "source": [
    "cleanup_outcome = {\"outcome\" : { \"-\" : 1, \"Missed\":0, \"Miss\":0, \"Save\":0, \"Woodwork\":0, \"Defended\":0, \"Saved\":0}}\n"
   ]
  },
  {
   "cell_type": "code",
   "execution_count": 64,
   "metadata": {},
   "outputs": [],
   "source": [
    "df.replace( cleanup_outcome , inplace = True )\n",
    "test.replace(cleanup_outcome, inplace= True)"
   ]
  },
  {
   "cell_type": "code",
   "execution_count": 65,
   "metadata": {},
   "outputs": [
    {
     "data": {
      "text/plain": [
       "Index(['icon', 'shotQuality', 'defPressure', 'numDefPlayers', 'numAttPlayers',\n",
       "       'outcome', 'chanceRating', 'type'],\n",
       "      dtype='object')"
      ]
     },
     "execution_count": 65,
     "metadata": {},
     "output_type": "execute_result"
    }
   ],
   "source": [
    "df.columns"
   ]
  },
  {
   "cell_type": "code",
   "execution_count": 66,
   "metadata": {},
   "outputs": [
    {
     "data": {
      "text/plain": [
       "poorchance          27093\n",
       "fairlygoodchance    18961\n",
       "goodchance          13031\n",
       "verygoodchance       7992\n",
       "greatchance          5017\n",
       "Great                3768\n",
       "Very Good            1961\n",
       "Good                 1064\n",
       "Fairly Good           948\n",
       "Superb                892\n",
       "Penalty               886\n",
       "Poor                  795\n",
       "-                     262\n",
       "superbchance          143\n",
       "Name: chanceRating, dtype: int64"
      ]
     },
     "execution_count": 66,
     "metadata": {},
     "output_type": "execute_result"
    }
   ],
   "source": [
    "df.chanceRating.value_counts()"
   ]
  },
  {
   "cell_type": "code",
   "execution_count": 67,
   "metadata": {},
   "outputs": [],
   "source": [
    "cleanup_chance = {\"chanceRating\": {\"Penalty\": 1, \"Superb\":0.83, \"superbchance\": 0.83, \n",
    "                                   \"greatchance\": 0.43, \"Great\":0.43,\n",
    "                                   \"verygoodchance\": 0.22, \"Very Good\":0.22, \n",
    "                                   \"Good\":0.08 , \"goodchance\": 0.08, \n",
    "                                   \"fairlygoodchance\": 0.05,  \"Fairly Good\":0.05,\n",
    "                                   \"Poor\": 0.02, \"poorchance\": 0.02, \"-\": 0\n",
    "                                  }}"
   ]
  },
  {
   "cell_type": "code",
   "execution_count": 68,
   "metadata": {},
   "outputs": [],
   "source": [
    "df.replace(cleanup_chance, inplace = True)\n",
    "test.replace(cleanup_chance, inplace= True)"
   ]
  },
  {
   "cell_type": "code",
   "execution_count": 69,
   "metadata": {},
   "outputs": [
    {
     "data": {
      "text/plain": [
       "array([1.  , 0.02, 0.05, 0.22, 0.08, 0.43, 0.83, 0.  ])"
      ]
     },
     "execution_count": 69,
     "metadata": {},
     "output_type": "execute_result"
    }
   ],
   "source": [
    "df.chanceRating.unique()"
   ]
  },
  {
   "cell_type": "code",
   "execution_count": 70,
   "metadata": {},
   "outputs": [
    {
     "data": {
      "text/plain": [
       "0.02    27888\n",
       "0.05    19909\n",
       "0.08    14095\n",
       "0.22     9953\n",
       "0.43     8785\n",
       "0.83     1035\n",
       "1.00      886\n",
       "0.00      262\n",
       "Name: chanceRating, dtype: int64"
      ]
     },
     "execution_count": 70,
     "metadata": {},
     "output_type": "execute_result"
    }
   ],
   "source": [
    "df.chanceRating.value_counts()"
   ]
  },
  {
   "cell_type": "code",
   "execution_count": 71,
   "metadata": {},
   "outputs": [
    {
     "data": {
      "text/plain": [
       "array(['Penalty', 'Open Play', 'Dangerous Moment', 'Direct Free-Kick',\n",
       "       'Open play', 'Penalty Earned', 'Direct free kick', 'Turnover',\n",
       "       'Direct Corner', 'Shot (Opposition Rebound)', 'Cross High',\n",
       "       'Direct corner', 'Open Play Pass', 'Cross Low',\n",
       "       'Shot (Deflection)', 'Corner', 'Free Kick Won'], dtype=object)"
      ]
     },
     "execution_count": 71,
     "metadata": {},
     "output_type": "execute_result"
    }
   ],
   "source": [
    "df.type.unique()"
   ]
  },
  {
   "cell_type": "code",
   "execution_count": 72,
   "metadata": {},
   "outputs": [
    {
     "data": {
      "text/html": [
       "<div>\n",
       "<style scoped>\n",
       "    .dataframe tbody tr th:only-of-type {\n",
       "        vertical-align: middle;\n",
       "    }\n",
       "\n",
       "    .dataframe tbody tr th {\n",
       "        vertical-align: top;\n",
       "    }\n",
       "\n",
       "    .dataframe thead th {\n",
       "        text-align: right;\n",
       "    }\n",
       "</style>\n",
       "<table border=\"1\" class=\"dataframe\">\n",
       "  <thead>\n",
       "    <tr style=\"text-align: right;\">\n",
       "      <th></th>\n",
       "      <th>icon</th>\n",
       "      <th>shotQuality</th>\n",
       "      <th>defPressure</th>\n",
       "      <th>numDefPlayers</th>\n",
       "      <th>numAttPlayers</th>\n",
       "      <th>outcome</th>\n",
       "      <th>chanceRating</th>\n",
       "      <th>type</th>\n",
       "    </tr>\n",
       "  </thead>\n",
       "  <tbody>\n",
       "    <tr>\n",
       "      <th>0</th>\n",
       "      <td>1.0</td>\n",
       "      <td>3</td>\n",
       "      <td>0</td>\n",
       "      <td>1</td>\n",
       "      <td>0</td>\n",
       "      <td>1</td>\n",
       "      <td>1.0</td>\n",
       "      <td>Penalty</td>\n",
       "    </tr>\n",
       "    <tr>\n",
       "      <th>1</th>\n",
       "      <td>1.0</td>\n",
       "      <td>3</td>\n",
       "      <td>0</td>\n",
       "      <td>1</td>\n",
       "      <td>0</td>\n",
       "      <td>1</td>\n",
       "      <td>1.0</td>\n",
       "      <td>Penalty</td>\n",
       "    </tr>\n",
       "    <tr>\n",
       "      <th>2</th>\n",
       "      <td>1.0</td>\n",
       "      <td>4</td>\n",
       "      <td>0</td>\n",
       "      <td>1</td>\n",
       "      <td>0</td>\n",
       "      <td>1</td>\n",
       "      <td>1.0</td>\n",
       "      <td>Penalty</td>\n",
       "    </tr>\n",
       "    <tr>\n",
       "      <th>3</th>\n",
       "      <td>1.0</td>\n",
       "      <td>3</td>\n",
       "      <td>0</td>\n",
       "      <td>1</td>\n",
       "      <td>0</td>\n",
       "      <td>1</td>\n",
       "      <td>1.0</td>\n",
       "      <td>Penalty</td>\n",
       "    </tr>\n",
       "    <tr>\n",
       "      <th>4</th>\n",
       "      <td>1.0</td>\n",
       "      <td>3</td>\n",
       "      <td>0</td>\n",
       "      <td>1</td>\n",
       "      <td>0</td>\n",
       "      <td>1</td>\n",
       "      <td>1.0</td>\n",
       "      <td>Penalty</td>\n",
       "    </tr>\n",
       "  </tbody>\n",
       "</table>\n",
       "</div>"
      ],
      "text/plain": [
       "   icon shotQuality defPressure numDefPlayers numAttPlayers  outcome  \\\n",
       "0   1.0           3           0             1             0        1   \n",
       "1   1.0           3           0             1             0        1   \n",
       "2   1.0           4           0             1             0        1   \n",
       "3   1.0           3           0             1             0        1   \n",
       "4   1.0           3           0             1             0        1   \n",
       "\n",
       "   chanceRating     type  \n",
       "0           1.0  Penalty  \n",
       "1           1.0  Penalty  \n",
       "2           1.0  Penalty  \n",
       "3           1.0  Penalty  \n",
       "4           1.0  Penalty  "
      ]
     },
     "execution_count": 72,
     "metadata": {},
     "output_type": "execute_result"
    }
   ],
   "source": [
    "df.head()"
   ]
  },
  {
   "cell_type": "code",
   "execution_count": 73,
   "metadata": {},
   "outputs": [
    {
     "data": {
      "text/plain": [
       "array(['Penalty', 'Open Play', 'Dangerous Moment', 'Direct Free-Kick',\n",
       "       'Open play', 'Penalty Earned', 'Direct free kick', 'Turnover',\n",
       "       'Direct Corner', 'Shot (Opposition Rebound)', 'Cross High',\n",
       "       'Direct corner', 'Open Play Pass', 'Cross Low',\n",
       "       'Shot (Deflection)', 'Corner', 'Free Kick Won'], dtype=object)"
      ]
     },
     "execution_count": 73,
     "metadata": {},
     "output_type": "execute_result"
    }
   ],
   "source": [
    "df.type.unique()"
   ]
  },
  {
   "cell_type": "code",
   "execution_count": 74,
   "metadata": {},
   "outputs": [
    {
     "data": {
      "text/plain": [
       "icon              float64\n",
       "shotQuality        object\n",
       "defPressure        object\n",
       "numDefPlayers      object\n",
       "numAttPlayers      object\n",
       "outcome             int64\n",
       "chanceRating      float64\n",
       "type             category\n",
       "dtype: object"
      ]
     },
     "execution_count": 74,
     "metadata": {},
     "output_type": "execute_result"
    }
   ],
   "source": [
    "df['type'] = df['type'].astype('category')\n",
    "test['type'] = test['type'].astype('category')\n",
    "df.dtypes"
   ]
  },
  {
   "cell_type": "code",
   "execution_count": 75,
   "metadata": {},
   "outputs": [
    {
     "data": {
      "text/plain": [
       "array([12,  9,  3,  5, 11, 13,  7, 16,  4, 15,  1,  6, 10,  2, 14,  0,  8])"
      ]
     },
     "execution_count": 75,
     "metadata": {},
     "output_type": "execute_result"
    }
   ],
   "source": [
    "df['type'] = df['type'].cat.codes\n",
    "test['type'] = test['type'].cat.codes\n",
    "df.type.unique()"
   ]
  },
  {
   "cell_type": "code",
   "execution_count": 76,
   "metadata": {},
   "outputs": [
    {
     "data": {
      "text/html": [
       "<div>\n",
       "<style scoped>\n",
       "    .dataframe tbody tr th:only-of-type {\n",
       "        vertical-align: middle;\n",
       "    }\n",
       "\n",
       "    .dataframe tbody tr th {\n",
       "        vertical-align: top;\n",
       "    }\n",
       "\n",
       "    .dataframe thead th {\n",
       "        text-align: right;\n",
       "    }\n",
       "</style>\n",
       "<table border=\"1\" class=\"dataframe\">\n",
       "  <thead>\n",
       "    <tr style=\"text-align: right;\">\n",
       "      <th></th>\n",
       "      <th>icon</th>\n",
       "      <th>shotQuality</th>\n",
       "      <th>defPressure</th>\n",
       "      <th>numDefPlayers</th>\n",
       "      <th>numAttPlayers</th>\n",
       "      <th>outcome</th>\n",
       "      <th>chanceRating</th>\n",
       "      <th>type</th>\n",
       "    </tr>\n",
       "  </thead>\n",
       "  <tbody>\n",
       "    <tr>\n",
       "      <th>0</th>\n",
       "      <td>1.0</td>\n",
       "      <td>3</td>\n",
       "      <td>0</td>\n",
       "      <td>1</td>\n",
       "      <td>0</td>\n",
       "      <td>1</td>\n",
       "      <td>1.0</td>\n",
       "      <td>12</td>\n",
       "    </tr>\n",
       "    <tr>\n",
       "      <th>1</th>\n",
       "      <td>1.0</td>\n",
       "      <td>3</td>\n",
       "      <td>0</td>\n",
       "      <td>1</td>\n",
       "      <td>0</td>\n",
       "      <td>1</td>\n",
       "      <td>1.0</td>\n",
       "      <td>12</td>\n",
       "    </tr>\n",
       "    <tr>\n",
       "      <th>2</th>\n",
       "      <td>1.0</td>\n",
       "      <td>4</td>\n",
       "      <td>0</td>\n",
       "      <td>1</td>\n",
       "      <td>0</td>\n",
       "      <td>1</td>\n",
       "      <td>1.0</td>\n",
       "      <td>12</td>\n",
       "    </tr>\n",
       "    <tr>\n",
       "      <th>3</th>\n",
       "      <td>1.0</td>\n",
       "      <td>3</td>\n",
       "      <td>0</td>\n",
       "      <td>1</td>\n",
       "      <td>0</td>\n",
       "      <td>1</td>\n",
       "      <td>1.0</td>\n",
       "      <td>12</td>\n",
       "    </tr>\n",
       "    <tr>\n",
       "      <th>4</th>\n",
       "      <td>1.0</td>\n",
       "      <td>3</td>\n",
       "      <td>0</td>\n",
       "      <td>1</td>\n",
       "      <td>0</td>\n",
       "      <td>1</td>\n",
       "      <td>1.0</td>\n",
       "      <td>12</td>\n",
       "    </tr>\n",
       "  </tbody>\n",
       "</table>\n",
       "</div>"
      ],
      "text/plain": [
       "   icon shotQuality defPressure numDefPlayers numAttPlayers  outcome  \\\n",
       "0   1.0           3           0             1             0        1   \n",
       "1   1.0           3           0             1             0        1   \n",
       "2   1.0           4           0             1             0        1   \n",
       "3   1.0           3           0             1             0        1   \n",
       "4   1.0           3           0             1             0        1   \n",
       "\n",
       "   chanceRating  type  \n",
       "0           1.0    12  \n",
       "1           1.0    12  \n",
       "2           1.0    12  \n",
       "3           1.0    12  \n",
       "4           1.0    12  "
      ]
     },
     "execution_count": 76,
     "metadata": {},
     "output_type": "execute_result"
    }
   ],
   "source": [
    "df.head()"
   ]
  },
  {
   "cell_type": "code",
   "execution_count": 77,
   "metadata": {},
   "outputs": [],
   "source": [
    "df.to_csv('file_name.csv', sep=',')\n",
    "test.to_csv('test.csv', sep=',')"
   ]
  },
  {
   "cell_type": "code",
   "execution_count": 78,
   "metadata": {},
   "outputs": [],
   "source": [
    "from numpy import genfromtxt\n",
    "my_data = genfromtxt('file_name.csv', delimiter=',')\n",
    "testdata = genfromtxt('test.csv', delimiter=',')"
   ]
  },
  {
   "cell_type": "code",
   "execution_count": 79,
   "metadata": {},
   "outputs": [
    {
     "data": {
      "text/plain": [
       "array([[      nan,       nan,       nan, ...,       nan,       nan,\n",
       "              nan],\n",
       "       [0.000e+00, 1.000e+00, 3.000e+00, ..., 1.000e+00, 1.000e+00,\n",
       "        1.200e+01],\n",
       "       [1.000e+00, 1.000e+00, 3.000e+00, ..., 1.000e+00, 1.000e+00,\n",
       "        1.200e+01],\n",
       "       ...,\n",
       "       [5.843e+03, 1.000e+00, 3.000e+00, ..., 1.000e+00, 8.300e-01,\n",
       "        9.000e+00],\n",
       "       [5.844e+03, 1.000e+00, 4.000e+00, ..., 1.000e+00, 5.000e-02,\n",
       "        9.000e+00],\n",
       "       [5.845e+03, 0.000e+00, 3.000e+00, ..., 0.000e+00, 0.000e+00,\n",
       "        1.300e+01]])"
      ]
     },
     "execution_count": 79,
     "metadata": {},
     "output_type": "execute_result"
    }
   ],
   "source": [
    "my_data"
   ]
  },
  {
   "cell_type": "code",
   "execution_count": 80,
   "metadata": {},
   "outputs": [
    {
     "data": {
      "text/plain": [
       "array([[      nan,       nan,       nan, ...,       nan,       nan,\n",
       "              nan],\n",
       "       [0.000e+00, 1.000e+00, 3.000e+00, ..., 1.000e+00, 4.300e-01,\n",
       "        4.000e+00],\n",
       "       [1.000e+00, 1.000e+00, 3.000e+00, ..., 1.000e+00, 4.300e-01,\n",
       "        4.000e+00],\n",
       "       ...,\n",
       "       [6.724e+03, 1.000e+00, 3.000e+00, ..., 1.000e+00, 2.200e-01,\n",
       "        4.000e+00],\n",
       "       [6.725e+03, 1.000e+00, 4.000e+00, ..., 1.000e+00, 8.000e-02,\n",
       "        4.000e+00],\n",
       "       [6.726e+03, 1.000e+00, 4.000e+00, ..., 1.000e+00, 8.000e-02,\n",
       "        4.000e+00]])"
      ]
     },
     "execution_count": 80,
     "metadata": {},
     "output_type": "execute_result"
    }
   ],
   "source": [
    "testdata"
   ]
  },
  {
   "cell_type": "code",
   "execution_count": 81,
   "metadata": {},
   "outputs": [],
   "source": [
    "df2 = df.outcome\n",
    "testdata = test.outcome"
   ]
  },
  {
   "cell_type": "code",
   "execution_count": 82,
   "metadata": {},
   "outputs": [
    {
     "data": {
      "text/plain": [
       "array([1, 1, 1, ..., 1, 1, 0])"
      ]
     },
     "execution_count": 82,
     "metadata": {},
     "output_type": "execute_result"
    }
   ],
   "source": [
    "target = df2.values\n",
    "testtarget = testdata\n",
    "target"
   ]
  },
  {
   "cell_type": "code",
   "execution_count": 83,
   "metadata": {},
   "outputs": [
    {
     "data": {
      "text/plain": [
       "Index(['icon', 'shotQuality', 'defPressure', 'numDefPlayers', 'numAttPlayers',\n",
       "       'outcome', 'chanceRating', 'type'],\n",
       "      dtype='object')"
      ]
     },
     "execution_count": 83,
     "metadata": {},
     "output_type": "execute_result"
    }
   ],
   "source": [
    "df.columns"
   ]
  },
  {
   "cell_type": "code",
   "execution_count": 84,
   "metadata": {},
   "outputs": [],
   "source": [
    "df1 = df[['icon', 'shotQuality', 'defPressure', 'numDefPlayers', 'numAttPlayers',\n",
    "       'chanceRating', 'type']]\n",
    "test1 = test[['icon', 'shotQuality', 'defPressure', 'numDefPlayers', 'numAttPlayers',\n",
    "       'chanceRating', 'type']]"
   ]
  },
  {
   "cell_type": "code",
   "execution_count": 85,
   "metadata": {},
   "outputs": [
    {
     "data": {
      "text/plain": [
       "array([1.  , 0.02, 0.05, 0.22, 0.08, 0.43, 0.83, 0.  ])"
      ]
     },
     "execution_count": 85,
     "metadata": {},
     "output_type": "execute_result"
    }
   ],
   "source": [
    "df1.chanceRating.unique()"
   ]
  },
  {
   "cell_type": "code",
   "execution_count": 86,
   "metadata": {},
   "outputs": [
    {
     "name": "stderr",
     "output_type": "stream",
     "text": [
      "/home/abhinavralhan/.local/lib/python3.5/site-packages/ipykernel_launcher.py:1: SettingWithCopyWarning:\n",
      "\n",
      "\n",
      "A value is trying to be set on a copy of a slice from a DataFrame.\n",
      "Try using .loc[row_indexer,col_indexer] = value instead\n",
      "\n",
      "See the caveats in the documentation: http://pandas.pydata.org/pandas-docs/stable/indexing.html#indexing-view-versus-copy\n",
      "\n",
      "/home/abhinavralhan/.local/lib/python3.5/site-packages/ipykernel_launcher.py:2: SettingWithCopyWarning:\n",
      "\n",
      "\n",
      "A value is trying to be set on a copy of a slice from a DataFrame.\n",
      "Try using .loc[row_indexer,col_indexer] = value instead\n",
      "\n",
      "See the caveats in the documentation: http://pandas.pydata.org/pandas-docs/stable/indexing.html#indexing-view-versus-copy\n",
      "\n"
     ]
    }
   ],
   "source": [
    "df1['numDefPlayers'] = df1['numDefPlayers'].replace('-', '0')\n",
    "test1['numDefPlayers'] = test1['numDefPlayers'].replace('-', '0')"
   ]
  },
  {
   "cell_type": "code",
   "execution_count": 87,
   "metadata": {},
   "outputs": [
    {
     "name": "stderr",
     "output_type": "stream",
     "text": [
      "/home/abhinavralhan/.local/lib/python3.5/site-packages/ipykernel_launcher.py:1: SettingWithCopyWarning:\n",
      "\n",
      "\n",
      "A value is trying to be set on a copy of a slice from a DataFrame.\n",
      "Try using .loc[row_indexer,col_indexer] = value instead\n",
      "\n",
      "See the caveats in the documentation: http://pandas.pydata.org/pandas-docs/stable/indexing.html#indexing-view-versus-copy\n",
      "\n",
      "/home/abhinavralhan/.local/lib/python3.5/site-packages/ipykernel_launcher.py:2: SettingWithCopyWarning:\n",
      "\n",
      "\n",
      "A value is trying to be set on a copy of a slice from a DataFrame.\n",
      "Try using .loc[row_indexer,col_indexer] = value instead\n",
      "\n",
      "See the caveats in the documentation: http://pandas.pydata.org/pandas-docs/stable/indexing.html#indexing-view-versus-copy\n",
      "\n"
     ]
    }
   ],
   "source": [
    "df1['numAttPlayers'] = df1['numAttPlayers'].replace('-', '0')\n",
    "test1['numAttPlayers'] = test1['numAttPlayers'].replace('-', '0')"
   ]
  },
  {
   "cell_type": "code",
   "execution_count": 88,
   "metadata": {},
   "outputs": [
    {
     "name": "stderr",
     "output_type": "stream",
     "text": [
      "/home/abhinavralhan/.local/lib/python3.5/site-packages/ipykernel_launcher.py:1: SettingWithCopyWarning:\n",
      "\n",
      "\n",
      "A value is trying to be set on a copy of a slice from a DataFrame.\n",
      "Try using .loc[row_indexer,col_indexer] = value instead\n",
      "\n",
      "See the caveats in the documentation: http://pandas.pydata.org/pandas-docs/stable/indexing.html#indexing-view-versus-copy\n",
      "\n",
      "/home/abhinavralhan/.local/lib/python3.5/site-packages/ipykernel_launcher.py:2: SettingWithCopyWarning:\n",
      "\n",
      "\n",
      "A value is trying to be set on a copy of a slice from a DataFrame.\n",
      "Try using .loc[row_indexer,col_indexer] = value instead\n",
      "\n",
      "See the caveats in the documentation: http://pandas.pydata.org/pandas-docs/stable/indexing.html#indexing-view-versus-copy\n",
      "\n"
     ]
    }
   ],
   "source": [
    "df1['defPressure'] = df1['defPressure'].replace('-', '0')\n",
    "test1['defPressure'] = test1['defPressure'].replace('-', '0')"
   ]
  },
  {
   "cell_type": "code",
   "execution_count": 89,
   "metadata": {},
   "outputs": [
    {
     "data": {
      "text/plain": [
       "Index(['icon', 'shotQuality', 'defPressure', 'numDefPlayers', 'numAttPlayers',\n",
       "       'chanceRating', 'type'],\n",
       "      dtype='object')"
      ]
     },
     "execution_count": 89,
     "metadata": {},
     "output_type": "execute_result"
    }
   ],
   "source": [
    "df1.columns"
   ]
  },
  {
   "cell_type": "code",
   "execution_count": 90,
   "metadata": {},
   "outputs": [
    {
     "data": {
      "text/plain": [
       "0    60639\n",
       "1    16031\n",
       "2     4505\n",
       "3     1287\n",
       "4      278\n",
       "5       54\n",
       "6       12\n",
       "7        7\n",
       "Name: numAttPlayers, dtype: int64"
      ]
     },
     "execution_count": 90,
     "metadata": {},
     "output_type": "execute_result"
    }
   ],
   "source": [
    "df1.numAttPlayers.value_counts()"
   ]
  },
  {
   "cell_type": "code",
   "execution_count": 91,
   "metadata": {},
   "outputs": [
    {
     "data": {
      "text/html": [
       "<div>\n",
       "<style scoped>\n",
       "    .dataframe tbody tr th:only-of-type {\n",
       "        vertical-align: middle;\n",
       "    }\n",
       "\n",
       "    .dataframe tbody tr th {\n",
       "        vertical-align: top;\n",
       "    }\n",
       "\n",
       "    .dataframe thead th {\n",
       "        text-align: right;\n",
       "    }\n",
       "</style>\n",
       "<table border=\"1\" class=\"dataframe\">\n",
       "  <thead>\n",
       "    <tr style=\"text-align: right;\">\n",
       "      <th></th>\n",
       "      <th>icon</th>\n",
       "      <th>outcome</th>\n",
       "      <th>chanceRating</th>\n",
       "      <th>type</th>\n",
       "    </tr>\n",
       "  </thead>\n",
       "  <tbody>\n",
       "    <tr>\n",
       "      <th>icon</th>\n",
       "      <td>1.000000</td>\n",
       "      <td>0.941334</td>\n",
       "      <td>0.703509</td>\n",
       "      <td>0.339573</td>\n",
       "    </tr>\n",
       "    <tr>\n",
       "      <th>outcome</th>\n",
       "      <td>0.941334</td>\n",
       "      <td>1.000000</td>\n",
       "      <td>0.527482</td>\n",
       "      <td>0.367738</td>\n",
       "    </tr>\n",
       "    <tr>\n",
       "      <th>chanceRating</th>\n",
       "      <td>0.703509</td>\n",
       "      <td>0.527482</td>\n",
       "      <td>1.000000</td>\n",
       "      <td>0.239571</td>\n",
       "    </tr>\n",
       "    <tr>\n",
       "      <th>type</th>\n",
       "      <td>0.339573</td>\n",
       "      <td>0.367738</td>\n",
       "      <td>0.239571</td>\n",
       "      <td>1.000000</td>\n",
       "    </tr>\n",
       "  </tbody>\n",
       "</table>\n",
       "</div>"
      ],
      "text/plain": [
       "                  icon   outcome  chanceRating      type\n",
       "icon          1.000000  0.941334      0.703509  0.339573\n",
       "outcome       0.941334  1.000000      0.527482  0.367738\n",
       "chanceRating  0.703509  0.527482      1.000000  0.239571\n",
       "type          0.339573  0.367738      0.239571  1.000000"
      ]
     },
     "execution_count": 91,
     "metadata": {},
     "output_type": "execute_result"
    }
   ],
   "source": [
    "df[['icon', 'shotQuality', 'outcome', 'chanceRating', 'type']].corr() # simple correlation results"
   ]
  },
  {
   "cell_type": "code",
   "execution_count": 92,
   "metadata": {},
   "outputs": [],
   "source": [
    "#####################################################################################################\n",
    "# STEP 5: Create target, data, feature names as numpy array\n",
    "\n",
    "# Getting data ready to apply machine learning algorithms\n"
   ]
  },
  {
   "cell_type": "code",
   "execution_count": 93,
   "metadata": {},
   "outputs": [
    {
     "data": {
      "text/plain": [
       "array([[1.0, '3', '2', ..., '0', 0.43, 4],\n",
       "       [1.0, '3', '3', ..., '0', 0.43, 4],\n",
       "       [0.08, '2', '3', ..., '0', 0.08, 4],\n",
       "       ...,\n",
       "       [1.0, '3', '4', ..., '0', 0.22, 4],\n",
       "       [1.0, '4', '4', ..., '1', 0.08, 4],\n",
       "       [1.0, '4', '0', ..., '0', 0.08, 4]], dtype=object)"
      ]
     },
     "execution_count": 93,
     "metadata": {},
     "output_type": "execute_result"
    }
   ],
   "source": [
    "test = test1.values\n",
    "test"
   ]
  },
  {
   "cell_type": "code",
   "execution_count": 94,
   "metadata": {},
   "outputs": [
    {
     "data": {
      "text/plain": [
       "array([[1.0, '3', '0', ..., '0', 1.0, 12],\n",
       "       [1.0, '3', '0', ..., '0', 1.0, 12],\n",
       "       [1.0, '4', '0', ..., '0', 1.0, 12],\n",
       "       ...,\n",
       "       [1.0, '3', '0', ..., '0', 0.83, 9],\n",
       "       [1.0, '4', '2', ..., '1', 0.05, 9],\n",
       "       [0.0, '3', '0', ..., '0', 0.0, 13]], dtype=object)"
      ]
     },
     "execution_count": 94,
     "metadata": {},
     "output_type": "execute_result"
    }
   ],
   "source": [
    "data = df1.values\n",
    "data"
   ]
  },
  {
   "cell_type": "code",
   "execution_count": 95,
   "metadata": {},
   "outputs": [
    {
     "data": {
      "text/plain": [
       "array(['icon', 'shotQuality', 'defPressure', 'numDefPlayers',\n",
       "       'numAttPlayers', 'chanceRating', 'type'], dtype=object)"
      ]
     },
     "execution_count": 95,
     "metadata": {},
     "output_type": "execute_result"
    }
   ],
   "source": [
    "features = df1.columns.values\n",
    "features"
   ]
  },
  {
   "cell_type": "code",
   "execution_count": null,
   "metadata": {},
   "outputs": [],
   "source": []
  },
  {
   "cell_type": "code",
   "execution_count": 96,
   "metadata": {},
   "outputs": [],
   "source": [
    "#####################################################################################################\n",
    "# STEP 6: Machine Learning for xG\n",
    "\n",
    "# Using lasso and RF for now, validate using AUC curve score\n"
   ]
  },
  {
   "cell_type": "code",
   "execution_count": 97,
   "metadata": {},
   "outputs": [
    {
     "data": {
      "text/plain": [
       "0.02    27093\n",
       "0.05    18961\n",
       "0.08    13031\n",
       "1.00    10314\n",
       "0.22     7992\n",
       "0.43     5017\n",
       "0.00      262\n",
       "0.83      143\n",
       "Name: icon, dtype: int64"
      ]
     },
     "execution_count": 97,
     "metadata": {},
     "output_type": "execute_result"
    }
   ],
   "source": [
    "df1.icon.value_counts()"
   ]
  },
  {
   "cell_type": "code",
   "execution_count": 98,
   "metadata": {},
   "outputs": [
    {
     "name": "stderr",
     "output_type": "stream",
     "text": [
      "/usr/local/lib/python3.5/dist-packages/sklearn/cross_validation.py:41: DeprecationWarning:\n",
      "\n",
      "This module was deprecated in version 0.18 in favor of the model_selection module into which all the refactored classes and functions are moved. Also note that the interface of the new CV iterators are different from that of this module. This module will be removed in 0.20.\n",
      "\n",
      "/usr/local/lib/python3.5/dist-packages/sklearn/utils/validation.py:475: DataConversionWarning:\n",
      "\n",
      "Data with input dtype object was converted to float64 by StandardScaler.\n",
      "\n"
     ]
    },
    {
     "name": "stdout",
     "output_type": "stream",
     "text": [
      "[(1.0, 'icon'), (0.626, 'type'), (0.305, 'shotQuality'), (0.278, 'chanceRating'), (0.099, 'numDefPlayers'), (0.013, 'numAttPlayers'), (0.013, 'defPressure')]\n"
     ]
    }
   ],
   "source": [
    "from sklearn.linear_model import Lasso\n",
    "from sklearn.ensemble import RandomForestRegressor\n",
    "from sklearn.preprocessing import StandardScaler\n",
    "from sklearn.cross_validation import cross_val_score, ShuffleSplit\n",
    "from sklearn.metrics import mean_squared_error, r2_score\n",
    "from sklearn.metrics import roc_auc_score\n",
    "\n",
    "  \n",
    "scaler = StandardScaler()\n",
    "X = scaler.fit_transform(data)\n",
    "Y = target\n",
    "names = features\n",
    "  \n",
    "lasso = Lasso(alpha=.3)\n",
    "lasso.fit(X, Y)\n",
    " \n",
    "    \n",
    "rf = RandomForestRegressor(n_estimators=20, max_depth=4)\n",
    "rf.fit(X,Y)\n",
    "scores = []\n",
    "for i in range(X.shape[1]):\n",
    "     score = cross_val_score(rf, X[:, i:i+1], Y, scoring=\"r2\",\n",
    "                              cv=ShuffleSplit(len(X), 3, .3))\n",
    "     scores.append((round(np.mean(score), 3), names[i]))\n",
    "print(sorted(scores, reverse=True))\n",
    "\n",
    "#A helper method for pretty-printing linear models\n",
    "def pretty_print_linear(coefs, names = None, sort = False):\n",
    "    if names.any == None:\n",
    "        names = [\"X%s\" % x for x in range(len(coefs))]\n",
    "    lst = zip(coefs, names)\n",
    "    if sort:\n",
    "        lst = sorted(lst,  key = lambda x:-np.abs(x[0]))\n",
    "    return \" + \".join(\"%s * %s\" % (round(coef, 3), name)\n",
    "                                   for coef, name in lst)\n",
    "\n",
    "#print(scores)"
   ]
  },
  {
   "cell_type": "code",
   "execution_count": 99,
   "metadata": {},
   "outputs": [
    {
     "data": {
      "text/plain": [
       "1.0"
      ]
     },
     "execution_count": 99,
     "metadata": {},
     "output_type": "execute_result"
    }
   ],
   "source": [
    "xg = lasso.predict(test)\n",
    "roc_auc_score(testtarget, xg)"
   ]
  },
  {
   "cell_type": "code",
   "execution_count": null,
   "metadata": {},
   "outputs": [],
   "source": []
  },
  {
   "cell_type": "code",
   "execution_count": null,
   "metadata": {},
   "outputs": [],
   "source": []
  },
  {
   "cell_type": "code",
   "execution_count": 98,
   "metadata": {},
   "outputs": [],
   "source": [
    "##################################################################### END OF XG MODEL, FOR NOW :P ##############################################################"
   ]
  },
  {
   "cell_type": "code",
   "execution_count": null,
   "metadata": {},
   "outputs": [],
   "source": []
  },
  {
   "cell_type": "code",
   "execution_count": null,
   "metadata": {},
   "outputs": [],
   "source": []
  },
  {
   "cell_type": "code",
   "execution_count": null,
   "metadata": {},
   "outputs": [],
   "source": []
  },
  {
   "cell_type": "code",
   "execution_count": null,
   "metadata": {},
   "outputs": [],
   "source": []
  },
  {
   "cell_type": "code",
   "execution_count": null,
   "metadata": {},
   "outputs": [],
   "source": []
  },
  {
   "cell_type": "code",
   "execution_count": null,
   "metadata": {},
   "outputs": [],
   "source": []
  },
  {
   "cell_type": "code",
   "execution_count": null,
   "metadata": {},
   "outputs": [],
   "source": []
  },
  {
   "cell_type": "code",
   "execution_count": null,
   "metadata": {},
   "outputs": [],
   "source": []
  },
  {
   "cell_type": "code",
   "execution_count": null,
   "metadata": {},
   "outputs": [],
   "source": []
  }
 ],
 "metadata": {
  "kernelspec": {
   "display_name": "Python 3",
   "language": "python",
   "name": "python3"
  },
  "language_info": {
   "codemirror_mode": {
    "name": "ipython",
    "version": 3
   },
   "file_extension": ".py",
   "mimetype": "text/x-python",
   "name": "python",
   "nbconvert_exporter": "python",
   "pygments_lexer": "ipython3",
   "version": "3.5.2"
  }
 },
 "nbformat": 4,
 "nbformat_minor": 2
}
